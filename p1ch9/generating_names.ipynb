{
 "cells": [
  {
   "cell_type": "code",
   "execution_count": 2,
   "metadata": {},
   "outputs": [],
   "source": [
    "import torch\n",
    "import torch.nn as nn\n",
    "import torch.nn.functional as F"
   ]
  },
  {
   "cell_type": "code",
   "execution_count": 3,
   "metadata": {},
   "outputs": [],
   "source": [
    "vocab = \"$abcdefghijklmnopqrstuvwxyz\"\n",
    "vocab_size = len(vocab)\n",
    "# Create dictionaries for character to index and index to character\n",
    "ch_to_i = {char: i for i, char in enumerate(vocab)}\n",
    "i_to_ch = {i: char for i, char in enumerate(vocab)}"
   ]
  },
  {
   "cell_type": "code",
   "execution_count": 4,
   "metadata": {},
   "outputs": [
    {
     "name": "stdout",
     "output_type": "stream",
     "text": [
      "name 0: olprtgmjpmnsmhhsszgdgklbk\n",
      "name 1: nlibribqhffg\n",
      "name 2: ebhmehsocsticgnvcyl\n",
      "name 3: auzawfvenraceiwhxhunikoaefcd\n",
      "name 4: rgrkzdfo\n"
     ]
    }
   ],
   "source": [
    "import torch.nn.functional as F\n",
    "# equal_probs = torch.full((vocab_size,), 1.0/vocab_size)\n",
    "equal_probs = F.softmax(torch.ones(vocab_size), dim=0)\n",
    "for i in range(5):\n",
    "    generated = \"\"\n",
    "    while True:\n",
    "        random_int = torch.multinomial(equal_probs, 1).item()\n",
    "        random_char = i_to_ch[random_int]\n",
    "        if random_char == \"$\":\n",
    "            break\n",
    "        generated += random_char\n",
    "    print(f\"name {i}: {generated}\")"
   ]
  },
  {
   "cell_type": "code",
   "execution_count": 5,
   "metadata": {},
   "outputs": [],
   "source": [
    "names = []\n",
    "with open('../data/p2ch9/names_2022.txt', 'r') as file:\n",
    "    for line in file:\n",
    "        name, _, _= line.lower().strip().split(',')\n",
    "        names.append(name)"
   ]
  },
  {
   "cell_type": "code",
   "execution_count": 6,
   "metadata": {},
   "outputs": [
    {
     "name": "stdout",
     "output_type": "stream",
     "text": [
      "Number of names: 31915\n",
      "Max name length: 15\n",
      "Min name length: 2\n",
      "Average name length: 6.0521071596428015\n"
     ]
    },
    {
     "data": {
      "image/png": "[encoded data removed]",
      "text/plain": [
       "<Figure size 640x480 with 1 Axes>"
      ]
     },
     "metadata": {},
     "output_type": "display_data"
    }
   ],
   "source": [
    "import matplotlib.pyplot as plt\n",
    "\n",
    "# Calculate the lengths of all names\n",
    "num_names = len(names)\n",
    "name_lengths = [len(name) for name in names]\n",
    "max_name_length = max(name_lengths)\n",
    "min_name_length = min(name_lengths)\n",
    "print(f\"Number of names: {num_names}\")\n",
    "print(f\"Max name length: {max_name_length}\")\n",
    "print(f\"Min name length: {min_name_length}\")\n",
    "print(f\"Average name length: {sum(name_lengths) / num_names}\")\n",
    "\n",
    "# Create a histogram of name lengths\n",
    "plt.hist(name_lengths, bins=range(1, 17), align='left', rwidth=0.8)\n",
    "plt.xlabel('Name Length')\n",
    "plt.xticks(range(0, 17))\n",
    "plt.ylabel('Frequency')\n",
    "plt.title('Distribution of Name Lengths')\n",
    "plt.show()"
   ]
  },
  {
   "cell_type": "code",
   "execution_count": 7,
   "metadata": {},
   "outputs": [],
   "source": [
    "# filter out names 10 characters and longer\n",
    "names = [name for name in names if len(name) < 10]\n",
    "# Add special character boundary to names\n",
    "names = ['$' + name + '$' for name in names]"
   ]
  },
  {
   "cell_type": "code",
   "execution_count": 8,
   "metadata": {},
   "outputs": [],
   "source": [
    "import torch\n",
    "bigram = torch.zeros((vocab_size, vocab_size))\n",
    "total = 0\n",
    "for name in names:\n",
    "    for ch1, ch2 in zip(name, name[1:]):\n",
    "        ch1_int = ch_to_i[ch1]\n",
    "        ch2_int = ch_to_i[ch2]\n",
    "        bigram[ch1_int][ch2_int] += 1\n",
    "        total += 1\n",
    "bigram /= total"
   ]
  },
  {
   "cell_type": "code",
   "execution_count": 9,
   "metadata": {},
   "outputs": [
    {
     "name": "stdout",
     "output_type": "stream",
     "text": [
      "name 0: doh\n",
      "name 1: sma\n",
      "name 2: asss\n",
      "name 3: ditahendwstan\n",
      "name 4: mya\n"
     ]
    }
   ],
   "source": [
    "for i in range(5):\n",
    "    generated = \"$\"\n",
    "    while True:\n",
    "        bigram_probs = bigram[ch_to_i[generated[-1]]]\n",
    "        sampled_char = i_to_ch[\n",
    "            torch.multinomial(bigram_probs, 1).item()\n",
    "        ]\n",
    "        if sampled_char == \"$\":\n",
    "            break\n",
    "        generated += sampled_char\n",
    "    print(f\"name {i}: {generated[1:]}\")"
   ]
  },
  {
   "cell_type": "code",
   "execution_count": 10,
   "metadata": {},
   "outputs": [
    {
     "name": "stdout",
     "output_type": "stream",
     "text": [
      "tensor([0, 1, 4, 1, 0])\n",
      "$ada$\n"
     ]
    }
   ],
   "source": [
    "example_name = \"$ada$\"\n",
    "# Define encode and decode functions\n",
    "encode = lambda word: torch.tensor([ch_to_i[c] for c in word])\n",
    "decode = lambda tensor_i: ''.join(i_to_ch[i.item()] for i in tensor_i)\n",
    "print(encode(example_name))\n",
    "print(decode(encode(example_name)))\n",
    "\n",
    "name_indices = [encode(name) for name in names]\n",
    "target_indices = [name_index[1:] for name_index in name_indices]"
   ]
  },
  {
   "cell_type": "code",
   "execution_count": 11,
   "metadata": {},
   "outputs": [
    {
     "name": "stdout",
     "output_type": "stream",
     "text": [
      "tensor([ 0, 15, 12,  9, 22,  9,  1,  0,  0,  0,  0])\n",
      "tensor([15, 12,  9, 22,  9,  1,  0, -1, -1, -1, -1])\n"
     ]
    }
   ],
   "source": [
    "from torch.nn.utils.rnn import pad_sequence\n",
    "X = pad_sequence(name_indices, batch_first=True, padding_value=0)\n",
    "# trick to pad Y with a tensor for size 11, then remove the last row\n",
    "max_name_length = max(len(name) for name in names)\n",
    "target_indices.append(torch.empty((max_name_length), dtype=torch.long))\n",
    "Y = pad_sequence(target_indices, batch_first=True, padding_value=-1)[:-1]\n",
    "print(X[0])\n",
    "print(Y[0])"
   ]
  },
  {
   "cell_type": "code",
   "execution_count": 12,
   "metadata": {},
   "outputs": [
    {
     "name": "stdout",
     "output_type": "stream",
     "text": [
      "tensor([[ 0, 10,  1,  9,  1,  8,  0,  0,  0,  0,  0],\n",
      "        [ 0,  5,  2, 18,  9, 13,  1,  0,  0,  0,  0],\n",
      "        [ 0,  1, 14,  1, 12,  9, 19, 19,  5,  0,  0]])\n",
      "tensor([[10,  1,  9,  1,  8,  0, -1, -1, -1, -1, -1],\n",
      "        [ 5,  2, 18,  9, 13,  1,  0, -1, -1, -1, -1],\n",
      "        [ 1, 14,  1, 12,  9, 19, 19,  5,  0, -1, -1]])\n"
     ]
    }
   ],
   "source": [
    "def get_batch(batch_size=64):\n",
    "    random_idx = torch.randint(0, X.size(0), (batch_size,))\n",
    "    inputs = X[random_idx]\n",
    "    labels = Y[random_idx]\n",
    "    return inputs, labels\n",
    "inputs, labels = get_batch(3)\n",
    "print(inputs)\n",
    "print(labels)"
   ]
  },
  {
   "cell_type": "code",
   "execution_count": 13,
   "metadata": {},
   "outputs": [
    {
     "name": "stdout",
     "output_type": "stream",
     "text": [
      "torch.Size([4, 3])\n"
     ]
    },
    {
     "data": {
      "text/plain": [
       "tensor([[ 0.4796, -0.2138,  0.0972],\n",
       "        [ 0.4796, -0.2138,  0.0972],\n",
       "        [ 0.3381,  0.2404, -1.9988],\n",
       "        [ 1.5868,  1.1507,  0.7782]], grad_fn=<EmbeddingBackward0>)"
      ]
     },
     "execution_count": 13,
     "metadata": {},
     "output_type": "execute_result"
    }
   ],
   "source": [
    "embedding_dim = 3\n",
    "embedding = nn.Embedding(vocab_size, embedding_dim)\n",
    "example_input = torch.tensor([1, 1, 0, 2])\n",
    "input_embd = embedding(example_input)\n",
    "print(input_embd.shape)\n",
    "input_embd"
   ]
  },
  {
   "cell_type": "code",
   "execution_count": 14,
   "metadata": {},
   "outputs": [
    {
     "name": "stdout",
     "output_type": "stream",
     "text": [
      "Example: tensor([1, 1, 0, 2])\n",
      "subsequence=tensor([1, 0, 0, 0], dtype=torch.int32)\n",
      "subsequence=tensor([1, 1, 0, 0], dtype=torch.int32)\n",
      "subsequence=tensor([1, 1, 0, 0], dtype=torch.int32)\n",
      "subsequence=tensor([1, 1, 0, 2], dtype=torch.int32)\n",
      "torch.Size([4, 12])\n"
     ]
    }
   ],
   "source": [
    "example_input = torch.tensor([1, 1, 0, 2])\n",
    "seq_len = example_input.shape[0]\n",
    "sequence_embeddings = torch.zeros(seq_len, seq_len * embedding_dim)\n",
    "print(f\"Example: {example_input}\")\n",
    "# Iterate over each position in the sequence\n",
    "for i in range(seq_len):\n",
    "    # Create a subsequence of the input sequence up to the i-th element right-padded with zeros\n",
    "    subsequence = torch.zeros(seq_len, dtype=torch.int)\n",
    "    prefix = example_input[:i+1]\n",
    "    subsequence[:i+1] = prefix\n",
    "    print(f\"{subsequence=}\")\n",
    "    # Apply the embedding layer\n",
    "    emb = embedding(subsequence)\n",
    "    # Flatten the embeddings and store them in sequence_embeddings\n",
    "    sequence_embeddings[i, :] = emb.view(-1)\n",
    "print(sequence_embeddings.shape)"
   ]
  },
  {
   "cell_type": "code",
   "execution_count": 15,
   "metadata": {},
   "outputs": [],
   "source": [
    "class SequenceMLP(nn.Module):\n",
    "    def __init__(self, vocab_size, max_sequence_length, embedding_dim, hidden_dim=32):\n",
    "        super().__init__()\n",
    "        self.vocab_size = vocab_size\n",
    "        self.max_sequence_length = max_sequence_length\n",
    "        self.embedding_dim = embedding_dim\n",
    "        self.embedding = nn.Embedding(vocab_size, embedding_dim)\n",
    "        self.linear = nn.Linear(embedding_dim * max_sequence_length, hidden_dim)\n",
    "        self.relu = nn.ReLU()\n",
    "        self.out = nn.Linear(hidden_dim, vocab_size)\n",
    "\n",
    "    def forward(self, x):\n",
    "        batch_size, seq_len = x.shape\n",
    "        sequence_embeddings = torch.zeros(batch_size, seq_len, self.max_sequence_length * self.embedding_dim)\n",
    "        for i in range(seq_len):  # <1>\n",
    "            subsequence = torch.zeros(batch_size, self.max_sequence_length, dtype=torch.int)\n",
    "            prefix = x[:, :i+1]\n",
    "            subsequence[:, :i+1] = prefix\n",
    "            emb = self.embedding(subsequence)\n",
    "            sequence_embeddings[:, i, :] = emb.view(batch_size, -1)  # <2>\n",
    "        x = self.linear(sequence_embeddings)  # <3>\n",
    "        x = self.relu(x)\n",
    "        x = self.out(x)\n",
    "        return x\n",
    "\n",
    "embedding_dim = 3\n",
    "max_sequence_length = X.shape[1]\n",
    "model = SequenceMLP(vocab_size, max_sequence_length, embedding_dim)"
   ]
  },
  {
   "cell_type": "code",
   "execution_count": 16,
   "metadata": {},
   "outputs": [],
   "source": [
    "import torch.optim as optim\n",
    "\n",
    "def train(model, optimizer, num_steps=10_001, loss_report_interval=1_000):\n",
    "    losses = []\n",
    "    for i in range(1, num_steps):\n",
    "        inputs, labels = get_batch()\n",
    "        optimizer.zero_grad()\n",
    "        logits = model(inputs)\n",
    "        loss = F.cross_entropy(logits.view(-1, logits.shape[-1]), labels.view(-1), ignore_index=-1)\n",
    "        losses.append(loss.item())\n",
    "        if i % loss_report_interval == 0:\n",
    "            print(f'Average loss at step {i}: {sum(losses[-loss_report_interval:]) / loss_report_interval:.4f}')\n",
    "        loss.backward()\n",
    "        optimizer.step()\n",
    "\n",
    "optimizer = optim.SGD(model.parameters(), lr=0.1)"
   ]
  },
  {
   "cell_type": "code",
   "execution_count": 19,
   "metadata": {},
   "outputs": [
    {
     "name": "stdout",
     "output_type": "stream",
     "text": [
      "Average loss at step 1000: 2.2941\n",
      "Average loss at step 2000: 2.2885\n",
      "Average loss at step 3000: 2.2868\n",
      "Average loss at step 4000: 2.2888\n",
      "Average loss at step 5000: 2.2830\n",
      "Average loss at step 6000: 2.2800\n",
      "Average loss at step 7000: 2.2795\n",
      "Average loss at step 8000: 2.2763\n",
      "Average loss at step 9000: 2.2761\n",
      "Average loss at step 10000: 2.2742\n"
     ]
    }
   ],
   "source": [
    "train(model, optimizer)"
   ]
  },
  {
   "cell_type": "code",
   "execution_count": 20,
   "metadata": {},
   "outputs": [
    {
     "name": "stdout",
     "output_type": "stream",
     "text": [
      "nhelusy\n",
      "chovan\n",
      "jiyla\n",
      "geryy\n",
      "avia\n",
      "taryya\n",
      "sakri\n",
      "wain\n",
      "kex\n",
      "avraini\n"
     ]
    }
   ],
   "source": [
    "def generate_samples(model, num_samples=1, max_len=max_name_length):\n",
    "    sequences = torch.zeros((num_samples, 1)).int()\n",
    "    for _ in range(max_len):\n",
    "        logits = model(sequences)\n",
    "        logits = logits[:, -1, :]\n",
    "        probs = F.softmax(logits, dim=-1)\n",
    "        idx_next = torch.multinomial(probs, num_samples=1)\n",
    "        sequences = torch.cat((sequences, idx_next), dim=1)\n",
    "\n",
    "    for sequence in sequences:\n",
    "        indices = torch.where(sequence == 0)[0]\n",
    "        end = indices[1] if len(indices) > 1 else max_len\n",
    "        sequence = sequence[1:end]\n",
    "        print(decode(sequence))\n",
    "\n",
    "generate_samples(model, num_samples=10)"
   ]
  },
  {
   "cell_type": "code",
   "execution_count": 38,
   "metadata": {},
   "outputs": [
    {
     "data": {
      "application/vnd.plotly.v1+json": {
       "config": {
        "plotlyServerURL": "https://plot.ly"
       },
       "data": [
        {
         "marker": {
          "size": 8
         },
         "mode": "markers+text",
         "name": "characters",
         "text": [
          "$",
          "a",
          "b",
          "c",
          "d",
          "e",
          "f",
          "g",
          "h",
          "i",
          "j",
          "k",
          "l",
          "m",
          "n",
          "o",
          "p",
          "q",
          "r",
          "s",
          "t",
          "u",
          "v",
          "w",
          "x",
          "y",
          "z",
          "*"
         ],
         "textfont": {
          "color": "white",
          "size": 12
         },
         "textposition": "middle center",
         "type": "scatter3d",
         "x": [
          -2.232734203338623,
          2.5108275413513184,
          1.0154192447662354,
          0.7503080368041992,
          0.5027928352355957,
          0.35233160853385925,
          0.05927284434437752,
          1.1907989978790283,
          0.41539570689201355,
          0.1911478191614151,
          1.0107433795928955,
          0.5915733575820923,
          -0.27472543716430664,
          1.4582017660140991,
          1.7682486772537231,
          1.4159034490585327,
          0.6116241812705994,
          0.44022035598754883,
          0.4641300439834595,
          0.7285980582237244,
          0.7451207041740417,
          0.8728572726249695,
          0.1624440997838974,
          -0.600269079208374,
          0.7408477067947388,
          0.3220732808113098,
          1.0739988088607788
         ],
         "y": [
          0.4003690481185913,
          -1.4910767078399658,
          1.6674946546554565,
          0.974365234375,
          0.9688178896903992,
          -2.1108956336975098,
          0.980135440826416,
          1.5003397464752197,
          0.1540350466966629,
          -2.4626808166503906,
          1.4638824462890625,
          0.3723178207874298,
          0.8215737342834473,
          1.1521642208099365,
          0.6189662218093872,
          -2.5992989540100098,
          1.1823880672454834,
          0.22435767948627472,
          1.0267640352249146,
          0.43555229902267456,
          0.884810209274292,
          -1.574709177017212,
          1.3324391841888428,
          0.7784057855606079,
          -0.021691294386982918,
          -3.2886013984680176,
          0.6465851068496704
         ],
         "z": [
          0.8876219391822815,
          1.6215620040893555,
          1.2025082111358643,
          0.28330111503601074,
          -0.6481865048408508,
          1.2733399868011475,
          -0.1545369178056717,
          1.124204397201538,
          -0.8698973655700684,
          -0.26821082830429077,
          -0.5324510335922241,
          -0.7536501884460449,
          -2.78653621673584,
          -1.0174047946929932,
          -0.4835398495197296,
          1.0361692905426025,
          0.5675221681594849,
          0.30619093775749207,
          -1.1744576692581177,
          0.04962245374917984,
          0.33349549770355225,
          1.3906673192977905,
          -2.345665693283081,
          -0.5363324880599976,
          -0.41854166984558105,
          -2.5371668338775635,
          -1.380265712738037
         ]
        },
        {
         "line": {
          "color": "black",
          "dash": "solid",
          "width": 4
         },
         "mode": "lines",
         "name": "x-axis",
         "type": "scatter3d",
         "x": [
          -2,
          2
         ],
         "y": [
          0,
          0
         ],
         "z": [
          0,
          0
         ]
        },
        {
         "line": {
          "color": "black",
          "dash": "dashdot",
          "width": 4
         },
         "mode": "lines",
         "name": "y-axis",
         "type": "scatter3d",
         "x": [
          0,
          0
         ],
         "y": [
          -3,
          2
         ],
         "z": [
          0,
          0
         ]
        },
        {
         "line": {
          "color": "black",
          "dash": "longdash",
          "width": 4
         },
         "mode": "lines",
         "name": "z-axis",
         "type": "scatter3d",
         "x": [
          0,
          0
         ],
         "y": [
          0,
          0
         ],
         "z": [
          -2,
          2
         ]
        }
       ],
       "layout": {
        "autosize": false,
        "height": 700,
        "legend": {
         "bordercolor": "black",
         "borderwidth": 1,
         "font": {
          "size": 12
         },
         "orientation": "v",
         "x": 0.9,
         "xanchor": "center",
         "y": 0.5,
         "yanchor": "bottom"
        },
        "margin": {
         "b": 0,
         "l": 0,
         "r": 0,
         "t": 0
        },
        "template": {
         "data": {
          "bar": [
           {
            "error_x": {
             "color": "#2a3f5f"
            },
            "error_y": {
             "color": "#2a3f5f"
            },
            "marker": {
             "line": {
              "color": "#E5ECF6",
              "width": 0.5
             },
             "pattern": {
              "fillmode": "overlay",
              "size": 10,
              "solidity": 0.2
             }
            },
            "type": "bar"
           }
          ],
          "barpolar": [
           {
            "marker": {
             "line": {
              "color": "#E5ECF6",
              "width": 0.5
             },
             "pattern": {
              "fillmode": "overlay",
              "size": 10,
              "solidity": 0.2
             }
            },
            "type": "barpolar"
           }
          ],
          "carpet": [
           {
            "aaxis": {
             "endlinecolor": "#2a3f5f",
             "gridcolor": "white",
             "linecolor": "white",
             "minorgridcolor": "white",
             "startlinecolor": "#2a3f5f"
            },
            "baxis": {
             "endlinecolor": "#2a3f5f",
             "gridcolor": "white",
             "linecolor": "white",
             "minorgridcolor": "white",
             "startlinecolor": "#2a3f5f"
            },
            "type": "carpet"
           }
          ],
          "choropleth": [
           {
            "colorbar": {
             "outlinewidth": 0,
             "ticks": ""
            },
            "type": "choropleth"
           }
          ],
          "contour": [
           {
            "colorbar": {
             "outlinewidth": 0,
             "ticks": ""
            },
            "colorscale": [
             [
              0,
              "#0d0887"
             ],
             [
              0.1111111111111111,
              "#46039f"
             ],
             [
              0.2222222222222222,
              "#7201a8"
             ],
             [
              0.3333333333333333,
              "#9c179e"
             ],
             [
              0.4444444444444444,
              "#bd3786"
             ],
             [
              0.5555555555555556,
              "#d8576b"
             ],
             [
              0.6666666666666666,
              "#ed7953"
             ],
             [
              0.7777777777777778,
              "#fb9f3a"
             ],
             [
              0.8888888888888888,
              "#fdca26"
             ],
             [
              1,
              "#f0f921"
             ]
            ],
            "type": "contour"
           }
          ],
          "contourcarpet": [
           {
            "colorbar": {
             "outlinewidth": 0,
             "ticks": ""
            },
            "type": "contourcarpet"
           }
          ],
          "heatmap": [
           {
            "colorbar": {
             "outlinewidth": 0,
             "ticks": ""
            },
            "colorscale": [
             [
              0,
              "#0d0887"
             ],
             [
              0.1111111111111111,
              "#46039f"
             ],
             [
              0.2222222222222222,
              "#7201a8"
             ],
             [
              0.3333333333333333,
              "#9c179e"
             ],
             [
              0.4444444444444444,
              "#bd3786"
             ],
             [
              0.5555555555555556,
              "#d8576b"
             ],
             [
              0.6666666666666666,
              "#ed7953"
             ],
             [
              0.7777777777777778,
              "#fb9f3a"
             ],
             [
              0.8888888888888888,
              "#fdca26"
             ],
             [
              1,
              "#f0f921"
             ]
            ],
            "type": "heatmap"
           }
          ],
          "heatmapgl": [
           {
            "colorbar": {
             "outlinewidth": 0,
             "ticks": ""
            },
            "colorscale": [
             [
              0,
              "#0d0887"
             ],
             [
              0.1111111111111111,
              "#46039f"
             ],
             [
              0.2222222222222222,
              "#7201a8"
             ],
             [
              0.3333333333333333,
              "#9c179e"
             ],
             [
              0.4444444444444444,
              "#bd3786"
             ],
             [
              0.5555555555555556,
              "#d8576b"
             ],
             [
              0.6666666666666666,
              "#ed7953"
             ],
             [
              0.7777777777777778,
              "#fb9f3a"
             ],
             [
              0.8888888888888888,
              "#fdca26"
             ],
             [
              1,
              "#f0f921"
             ]
            ],
            "type": "heatmapgl"
           }
          ],
          "histogram": [
           {
            "marker": {
             "pattern": {
              "fillmode": "overlay",
              "size": 10,
              "solidity": 0.2
             }
            },
            "type": "histogram"
           }
          ],
          "histogram2d": [
           {
            "colorbar": {
             "outlinewidth": 0,
             "ticks": ""
            },
            "colorscale": [
             [
              0,
              "#0d0887"
             ],
             [
              0.1111111111111111,
              "#46039f"
             ],
             [
              0.2222222222222222,
              "#7201a8"
             ],
             [
              0.3333333333333333,
              "#9c179e"
             ],
             [
              0.4444444444444444,
              "#bd3786"
             ],
             [
              0.5555555555555556,
              "#d8576b"
             ],
             [
              0.6666666666666666,
              "#ed7953"
             ],
             [
              0.7777777777777778,
              "#fb9f3a"
             ],
             [
              0.8888888888888888,
              "#fdca26"
             ],
             [
              1,
              "#f0f921"
             ]
            ],
            "type": "histogram2d"
           }
          ],
          "histogram2dcontour": [
           {
            "colorbar": {
             "outlinewidth": 0,
             "ticks": ""
            },
            "colorscale": [
             [
              0,
              "#0d0887"
             ],
             [
              0.1111111111111111,
              "#46039f"
             ],
             [
              0.2222222222222222,
              "#7201a8"
             ],
             [
              0.3333333333333333,
              "#9c179e"
             ],
             [
              0.4444444444444444,
              "#bd3786"
             ],
             [
              0.5555555555555556,
              "#d8576b"
             ],
             [
              0.6666666666666666,
              "#ed7953"
             ],
             [
              0.7777777777777778,
              "#fb9f3a"
             ],
             [
              0.8888888888888888,
              "#fdca26"
             ],
             [
              1,
              "#f0f921"
             ]
            ],
            "type": "histogram2dcontour"
           }
          ],
          "mesh3d": [
           {
            "colorbar": {
             "outlinewidth": 0,
             "ticks": ""
            },
            "type": "mesh3d"
           }
          ],
          "parcoords": [
           {
            "line": {
             "colorbar": {
              "outlinewidth": 0,
              "ticks": ""
             }
            },
            "type": "parcoords"
           }
          ],
          "pie": [
           {
            "automargin": true,
            "type": "pie"
           }
          ],
          "scatter": [
           {
            "fillpattern": {
             "fillmode": "overlay",
             "size": 10,
             "solidity": 0.2
            },
            "type": "scatter"
           }
          ],
          "scatter3d": [
           {
            "line": {
             "colorbar": {
              "outlinewidth": 0,
              "ticks": ""
             }
            },
            "marker": {
             "colorbar": {
              "outlinewidth": 0,
              "ticks": ""
             }
            },
            "type": "scatter3d"
           }
          ],
          "scattercarpet": [
           {
            "marker": {
             "colorbar": {
              "outlinewidth": 0,
              "ticks": ""
             }
            },
            "type": "scattercarpet"
           }
          ],
          "scattergeo": [
           {
            "marker": {
             "colorbar": {
              "outlinewidth": 0,
              "ticks": ""
             }
            },
            "type": "scattergeo"
           }
          ],
          "scattergl": [
           {
            "marker": {
             "colorbar": {
              "outlinewidth": 0,
              "ticks": ""
             }
            },
            "type": "scattergl"
           }
          ],
          "scattermapbox": [
           {
            "marker": {
             "colorbar": {
              "outlinewidth": 0,
              "ticks": ""
             }
            },
            "type": "scattermapbox"
           }
          ],
          "scatterpolar": [
           {
            "marker": {
             "colorbar": {
              "outlinewidth": 0,
              "ticks": ""
             }
            },
            "type": "scatterpolar"
           }
          ],
          "scatterpolargl": [
           {
            "marker": {
             "colorbar": {
              "outlinewidth": 0,
              "ticks": ""
             }
            },
            "type": "scatterpolargl"
           }
          ],
          "scatterternary": [
           {
            "marker": {
             "colorbar": {
              "outlinewidth": 0,
              "ticks": ""
             }
            },
            "type": "scatterternary"
           }
          ],
          "surface": [
           {
            "colorbar": {
             "outlinewidth": 0,
             "ticks": ""
            },
            "colorscale": [
             [
              0,
              "#0d0887"
             ],
             [
              0.1111111111111111,
              "#46039f"
             ],
             [
              0.2222222222222222,
              "#7201a8"
             ],
             [
              0.3333333333333333,
              "#9c179e"
             ],
             [
              0.4444444444444444,
              "#bd3786"
             ],
             [
              0.5555555555555556,
              "#d8576b"
             ],
             [
              0.6666666666666666,
              "#ed7953"
             ],
             [
              0.7777777777777778,
              "#fb9f3a"
             ],
             [
              0.8888888888888888,
              "#fdca26"
             ],
             [
              1,
              "#f0f921"
             ]
            ],
            "type": "surface"
           }
          ],
          "table": [
           {
            "cells": {
             "fill": {
              "color": "#EBF0F8"
             },
             "line": {
              "color": "white"
             }
            },
            "header": {
             "fill": {
              "color": "#C8D4E3"
             },
             "line": {
              "color": "white"
             }
            },
            "type": "table"
           }
          ]
         },
         "layout": {
          "annotationdefaults": {
           "arrowcolor": "#2a3f5f",
           "arrowhead": 0,
           "arrowwidth": 1
          },
          "autotypenumbers": "strict",
          "coloraxis": {
           "colorbar": {
            "outlinewidth": 0,
            "ticks": ""
           }
          },
          "colorscale": {
           "diverging": [
            [
             0,
             "#8e0152"
            ],
            [
             0.1,
             "#c51b7d"
            ],
            [
             0.2,
             "#de77ae"
            ],
            [
             0.3,
             "#f1b6da"
            ],
            [
             0.4,
             "#fde0ef"
            ],
            [
             0.5,
             "#f7f7f7"
            ],
            [
             0.6,
             "#e6f5d0"
            ],
            [
             0.7,
             "#b8e186"
            ],
            [
             0.8,
             "#7fbc41"
            ],
            [
             0.9,
             "#4d9221"
            ],
            [
             1,
             "#276419"
            ]
           ],
           "sequential": [
            [
             0,
             "#0d0887"
            ],
            [
             0.1111111111111111,
             "#46039f"
            ],
            [
             0.2222222222222222,
             "#7201a8"
            ],
            [
             0.3333333333333333,
             "#9c179e"
            ],
            [
             0.4444444444444444,
             "#bd3786"
            ],
            [
             0.5555555555555556,
             "#d8576b"
            ],
            [
             0.6666666666666666,
             "#ed7953"
            ],
            [
             0.7777777777777778,
             "#fb9f3a"
            ],
            [
             0.8888888888888888,
             "#fdca26"
            ],
            [
             1,
             "#f0f921"
            ]
           ],
           "sequentialminus": [
            [
             0,
             "#0d0887"
            ],
            [
             0.1111111111111111,
             "#46039f"
            ],
            [
             0.2222222222222222,
             "#7201a8"
            ],
            [
             0.3333333333333333,
             "#9c179e"
            ],
            [
             0.4444444444444444,
             "#bd3786"
            ],
            [
             0.5555555555555556,
             "#d8576b"
            ],
            [
             0.6666666666666666,
             "#ed7953"
            ],
            [
             0.7777777777777778,
             "#fb9f3a"
            ],
            [
             0.8888888888888888,
             "#fdca26"
            ],
            [
             1,
             "#f0f921"
            ]
           ]
          },
          "colorway": [
           "#636efa",
           "#EF553B",
           "#00cc96",
           "#ab63fa",
           "#FFA15A",
           "#19d3f3",
           "#FF6692",
           "#B6E880",
           "#FF97FF",
           "#FECB52"
          ],
          "font": {
           "color": "#2a3f5f"
          },
          "geo": {
           "bgcolor": "white",
           "lakecolor": "white",
           "landcolor": "#E5ECF6",
           "showlakes": true,
           "showland": true,
           "subunitcolor": "white"
          },
          "hoverlabel": {
           "align": "left"
          },
          "hovermode": "closest",
          "mapbox": {
           "style": "light"
          },
          "paper_bgcolor": "white",
          "plot_bgcolor": "#E5ECF6",
          "polar": {
           "angularaxis": {
            "gridcolor": "white",
            "linecolor": "white",
            "ticks": ""
           },
           "bgcolor": "#E5ECF6",
           "radialaxis": {
            "gridcolor": "white",
            "linecolor": "white",
            "ticks": ""
           }
          },
          "scene": {
           "xaxis": {
            "backgroundcolor": "#E5ECF6",
            "gridcolor": "white",
            "gridwidth": 2,
            "linecolor": "white",
            "showbackground": true,
            "ticks": "",
            "zerolinecolor": "white"
           },
           "yaxis": {
            "backgroundcolor": "#E5ECF6",
            "gridcolor": "white",
            "gridwidth": 2,
            "linecolor": "white",
            "showbackground": true,
            "ticks": "",
            "zerolinecolor": "white"
           },
           "zaxis": {
            "backgroundcolor": "#E5ECF6",
            "gridcolor": "white",
            "gridwidth": 2,
            "linecolor": "white",
            "showbackground": true,
            "ticks": "",
            "zerolinecolor": "white"
           }
          },
          "shapedefaults": {
           "line": {
            "color": "#2a3f5f"
           }
          },
          "ternary": {
           "aaxis": {
            "gridcolor": "white",
            "linecolor": "white",
            "ticks": ""
           },
           "baxis": {
            "gridcolor": "white",
            "linecolor": "white",
            "ticks": ""
           },
           "bgcolor": "#E5ECF6",
           "caxis": {
            "gridcolor": "white",
            "linecolor": "white",
            "ticks": ""
           }
          },
          "title": {
           "x": 0.05
          },
          "xaxis": {
           "automargin": true,
           "gridcolor": "white",
           "linecolor": "white",
           "ticks": "",
           "title": {
            "standoff": 15
           },
           "zerolinecolor": "white",
           "zerolinewidth": 2
          },
          "yaxis": {
           "automargin": true,
           "gridcolor": "white",
           "linecolor": "white",
           "ticks": "",
           "title": {
            "standoff": 15
           },
           "zerolinecolor": "white",
           "zerolinewidth": 2
          }
         }
        },
        "width": 800
       }
      }
     },
     "metadata": {},
     "output_type": "display_data"
    }
   ],
   "source": [
    "import plotly.graph_objects as go\n",
    "# Assume embeddings is your (28, 3) tensor\n",
    "embeddings = model.embedding.weight.detach()\n",
    "# Create a list of labels\n",
    "labels = ['$', 'a', 'b', 'c', 'd', 'e', 'f', 'g', 'h', 'i', 'j', 'k',\n",
    "           'l', 'm', 'n', 'o', 'p', 'q', 'r', 's', 't', 'u', 'v', 'w', 'x', 'y', 'z', '*']\n",
    "# Create a 3D scatter plot\n",
    "fig = go.Figure(data=[go.Scatter3d(\n",
    "    x=embeddings[:, 0], \n",
    "    y=embeddings[:, 1], \n",
    "    z=embeddings[:, 2], \n",
    "    mode='markers+text',\n",
    "    text=labels,  # add labels\n",
    "    textfont=dict(size=12, color=\"white\"),\n",
    "    marker=dict(size=8),\n",
    "    textposition='middle center',  # position the labels\n",
    "    name=\"characters\"\n",
    ")])\n",
    "# Add x, y, and z axes as lines\n",
    "fig.add_trace(go.Scatter3d(x=[-2, 2], y=[0, 0], z=[0, 0], mode='lines', \n",
    "                           line=dict(color='black', dash='solid', width=4), name='x-axis'))\n",
    "fig.add_trace(go.Scatter3d(x=[0, 0], y=[-3, 2], z=[0, 0], mode='lines', \n",
    "                           line=dict(color='black', dash='dashdot', width=4), name='y-axis'))\n",
    "fig.add_trace(go.Scatter3d(x=[0, 0], y=[0, 0], z=[-2, 2], mode='lines', \n",
    "                           line=dict(color='black', dash='longdash', width=4), name='z-axis'))\n",
    "fig.update_layout(\n",
    "    autosize=False,\n",
    "    width=800,\n",
    "    height=700,\n",
    "    legend=dict(\n",
    "        orientation=\"v\",\n",
    "        xanchor=\"center\",\n",
    "        yanchor=\"bottom\",\n",
    "        x=.9,\n",
    "        y=.5,\n",
    "        font_size=12,\n",
    "        bordercolor=\"black\",\n",
    "        borderwidth=1,\n",
    "    ),\n",
    "    margin=dict(l=0, r=0, b=0, t=0),\n",
    ")\n",
    "# Show the plot\n",
    "fig.show()"
   ]
  },
  {
   "cell_type": "code",
   "execution_count": null,
   "metadata": {},
   "outputs": [],
   "source": []
  }
 ],
 "metadata": {
  "kernelspec": {
   "display_name": ".venv",
   "language": "python",
   "name": "python3"
  },
  "language_info": {
   "codemirror_mode": {
    "name": "ipython",
    "version": 3
   },
   "file_extension": ".py",
   "mimetype": "text/x-python",
   "name": "python",
   "nbconvert_exporter": "python",
   "pygments_lexer": "ipython3",
   "version": "3.12.5"
  }
 },
 "nbformat": 4,
 "nbformat_minor": 2
}
