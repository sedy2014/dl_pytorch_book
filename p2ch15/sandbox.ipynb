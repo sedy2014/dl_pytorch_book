{
 "cells": [
  {
   "cell_type": "code",
   "execution_count": 16,
   "metadata": {},
   "outputs": [],
   "source": [
    "import os\n",
    "# Get the current working directory (where the notebook is located)\n",
    "current_dir = os.getcwd()\n",
    "parent_dir = os.path.dirname(current_dir)\n",
    "# Change the working directory to the parent directory\n",
    "os.chdir(parent_dir)"
   ]
  },
  {
   "cell_type": "code",
   "execution_count": 17,
   "metadata": {},
   "outputs": [
    {
     "name": "stderr",
     "output_type": "stream",
     "text": [
      "2025-01-15 21:50:21,488 INFO     pid:26688 p2ch15.training:148:initModel Using CUDA; 1 devices.\n"
     ]
    },
    {
     "data": {
      "text/plain": [
       "<p2ch15.training.SegmentationTrainingApp at 0x20daeb91d20>"
      ]
     },
     "execution_count": 17,
     "metadata": {},
     "output_type": "execute_result"
    }
   ],
   "source": [
    "import torch\n",
    "from p2ch15.training import SegmentationTrainingApp\n",
    "args = [\n",
    "    '--num-workers', '1',  # Example: Set number of workers to 1\n",
    "    '--batch-size', '1',  # Example: Set batch size to 1\n",
    "    '--epochs', '1',       # Example: Set number of epochs to 1\n",
    "]\n",
    "app = SegmentationTrainingApp(args)\n",
    "app"
   ]
  },
  {
   "cell_type": "code",
   "execution_count": 18,
   "metadata": {},
   "outputs": [
    {
     "name": "stderr",
     "output_type": "stream",
     "text": [
      "2025-01-15 21:50:22,300 INFO     pid:26688 p2ch15.dsets:270:__init__ <p2ch15.dsets.TrainingLuna2dSegmentationDataset object at 0x0000020E1BE8D480>: 799 training series, 8343 slices, 1028 nodules\n",
      "2025-01-15 21:50:22,358 INFO     pid:26688 p2ch15.dsets:270:__init__ <p2ch15.dsets.Luna2dSegmentationDataset object at 0x0000020DAEB93A00>: 89 validation series, 1122 slices, 154 nodules\n"
     ]
    }
   ],
   "source": [
    "train_dl = app.initTrainDl()\n",
    "val_dl = app.initValDl()"
   ]
  },
  {
   "cell_type": "code",
   "execution_count": null,
   "metadata": {},
   "outputs": [],
   "source": [
    "def get_dl_subset(self, dataloader, num_samples=100):\n",
    "    dataset = dataloader.dataset\n",
    "    subset_indices = random.sample(range(len(dataset)), num_samples)\n",
    "    train_subset = Subset(dataset, subset_indices)\n",
    "    dl_subset = torch.utils.data.DataLoader(\n",
    "        train_subset,\n",
    "        batch_size=dataloader.batch_size,\n",
    "        shuffle=False,\n",
    "        num_workers=dataloader.num_workers\n",
    "    )\n",
    "    return dl_subset"
   ]
  },
  {
   "cell_type": "code",
   "execution_count": 22,
   "metadata": {},
   "outputs": [],
   "source": [
    "train_dl_subset = app.get_dl_subset(train_dl, num_samples=100)"
   ]
  },
  {
   "cell_type": "code",
   "execution_count": 23,
   "metadata": {},
   "outputs": [
    {
     "data": {
      "text/plain": [
       "1"
      ]
     },
     "execution_count": 23,
     "metadata": {},
     "output_type": "execute_result"
    }
   ],
   "source": [
    "train_dl_subset.batch_size"
   ]
  },
  {
   "cell_type": "code",
   "execution_count": 24,
   "metadata": {},
   "outputs": [
    {
     "ename": "IndexError",
     "evalue": "Caught IndexError in DataLoader worker process 0.\nOriginal Traceback (most recent call last):\n  File \"c:\\Users\\howardhuang\\MyCode\\DeepLearningWithPytorch-SecondEdition\\.venv\\lib\\site-packages\\torch\\utils\\data\\_utils\\worker.py\", line 309, in _worker_loop\n    data = fetcher.fetch(index)  # type: ignore[possibly-undefined]\n  File \"c:\\Users\\howardhuang\\MyCode\\DeepLearningWithPytorch-SecondEdition\\.venv\\lib\\site-packages\\torch\\utils\\data\\_utils\\fetch.py\", line 50, in fetch\n    data = self.dataset.__getitems__(possibly_batched_index)\n  File \"c:\\Users\\howardhuang\\MyCode\\DeepLearningWithPytorch-SecondEdition\\.venv\\lib\\site-packages\\torch\\utils\\data\\dataset.py\", line 420, in __getitems__\n    return [self.dataset[self.indices[idx]] for idx in indices]\n  File \"c:\\Users\\howardhuang\\MyCode\\DeepLearningWithPytorch-SecondEdition\\.venv\\lib\\site-packages\\torch\\utils\\data\\dataset.py\", line 420, in <listcomp>\n    return [self.dataset[self.indices[idx]] for idx in indices]\n  File \"c:\\Users\\howardhuang\\MyCode\\DeepLearningWithPytorch-SecondEdition\\code\\p2ch15\\dsets.py\", line 322, in __getitem__\n    return self.getitem_trainingCrop(candidateInfo_tup)\n  File \"c:\\Users\\howardhuang\\MyCode\\DeepLearningWithPytorch-SecondEdition\\code\\p2ch15\\dsets.py\", line 325, in getitem_trainingCrop\n    ct_a, pos_a, center_irc = getCtRawCandidate(\n  File \"c:\\Users\\howardhuang\\MyCode\\DeepLearningWithPytorch-SecondEdition\\.venv\\lib\\site-packages\\diskcache\\core.py\", line 1875, in wrapper\n    result = func(*args, **kwargs)\n  File \"c:\\Users\\howardhuang\\MyCode\\DeepLearningWithPytorch-SecondEdition\\code\\p2ch15\\dsets.py\", line 214, in getCtRawCandidate\n    ct = getCt(series_uid)\n  File \"c:\\Users\\howardhuang\\MyCode\\DeepLearningWithPytorch-SecondEdition\\code\\p2ch15\\dsets.py\", line 210, in getCt\n    return Ct(series_uid)\n  File \"c:\\Users\\howardhuang\\MyCode\\DeepLearningWithPytorch-SecondEdition\\code\\p2ch15\\dsets.py\", line 100, in __init__\n    mhd_path = glob.glob(\nIndexError: list index out of range\n",
     "output_type": "error",
     "traceback": [
      "\u001b[1;31m---------------------------------------------------------------------------\u001b[0m",
      "\u001b[1;31mIndexError\u001b[0m                                Traceback (most recent call last)",
      "Cell \u001b[1;32mIn[24], line 1\u001b[0m\n\u001b[1;32m----> 1\u001b[0m \u001b[38;5;28;01mfor\u001b[39;00m batch \u001b[38;5;129;01min\u001b[39;00m train_dl_subset:\n\u001b[0;32m      2\u001b[0m     ct_tensor, position_tensor, series_uid, slice_index \u001b[38;5;241m=\u001b[39m batch\n\u001b[0;32m      3\u001b[0m     \u001b[38;5;28;01mbreak\u001b[39;00m\n",
      "File \u001b[1;32mc:\\Users\\howardhuang\\MyCode\\DeepLearningWithPytorch-SecondEdition\\.venv\\lib\\site-packages\\torch\\utils\\data\\dataloader.py:630\u001b[0m, in \u001b[0;36m_BaseDataLoaderIter.__next__\u001b[1;34m(self)\u001b[0m\n\u001b[0;32m    627\u001b[0m \u001b[38;5;28;01mif\u001b[39;00m \u001b[38;5;28mself\u001b[39m\u001b[38;5;241m.\u001b[39m_sampler_iter \u001b[38;5;129;01mis\u001b[39;00m \u001b[38;5;28;01mNone\u001b[39;00m:\n\u001b[0;32m    628\u001b[0m     \u001b[38;5;66;03m# TODO(https://github.com/pytorch/pytorch/issues/76750)\u001b[39;00m\n\u001b[0;32m    629\u001b[0m     \u001b[38;5;28mself\u001b[39m\u001b[38;5;241m.\u001b[39m_reset()  \u001b[38;5;66;03m# type: ignore[call-arg]\u001b[39;00m\n\u001b[1;32m--> 630\u001b[0m data \u001b[38;5;241m=\u001b[39m \u001b[38;5;28;43mself\u001b[39;49m\u001b[38;5;241;43m.\u001b[39;49m\u001b[43m_next_data\u001b[49m\u001b[43m(\u001b[49m\u001b[43m)\u001b[49m\n\u001b[0;32m    631\u001b[0m \u001b[38;5;28mself\u001b[39m\u001b[38;5;241m.\u001b[39m_num_yielded \u001b[38;5;241m+\u001b[39m\u001b[38;5;241m=\u001b[39m \u001b[38;5;241m1\u001b[39m\n\u001b[0;32m    632\u001b[0m \u001b[38;5;28;01mif\u001b[39;00m \u001b[38;5;28mself\u001b[39m\u001b[38;5;241m.\u001b[39m_dataset_kind \u001b[38;5;241m==\u001b[39m _DatasetKind\u001b[38;5;241m.\u001b[39mIterable \u001b[38;5;129;01mand\u001b[39;00m \\\n\u001b[0;32m    633\u001b[0m         \u001b[38;5;28mself\u001b[39m\u001b[38;5;241m.\u001b[39m_IterableDataset_len_called \u001b[38;5;129;01mis\u001b[39;00m \u001b[38;5;129;01mnot\u001b[39;00m \u001b[38;5;28;01mNone\u001b[39;00m \u001b[38;5;129;01mand\u001b[39;00m \\\n\u001b[0;32m    634\u001b[0m         \u001b[38;5;28mself\u001b[39m\u001b[38;5;241m.\u001b[39m_num_yielded \u001b[38;5;241m>\u001b[39m \u001b[38;5;28mself\u001b[39m\u001b[38;5;241m.\u001b[39m_IterableDataset_len_called:\n",
      "File \u001b[1;32mc:\\Users\\howardhuang\\MyCode\\DeepLearningWithPytorch-SecondEdition\\.venv\\lib\\site-packages\\torch\\utils\\data\\dataloader.py:1344\u001b[0m, in \u001b[0;36m_MultiProcessingDataLoaderIter._next_data\u001b[1;34m(self)\u001b[0m\n\u001b[0;32m   1342\u001b[0m \u001b[38;5;28;01melse\u001b[39;00m:\n\u001b[0;32m   1343\u001b[0m     \u001b[38;5;28;01mdel\u001b[39;00m \u001b[38;5;28mself\u001b[39m\u001b[38;5;241m.\u001b[39m_task_info[idx]\n\u001b[1;32m-> 1344\u001b[0m     \u001b[38;5;28;01mreturn\u001b[39;00m \u001b[38;5;28;43mself\u001b[39;49m\u001b[38;5;241;43m.\u001b[39;49m\u001b[43m_process_data\u001b[49m\u001b[43m(\u001b[49m\u001b[43mdata\u001b[49m\u001b[43m)\u001b[49m\n",
      "File \u001b[1;32mc:\\Users\\howardhuang\\MyCode\\DeepLearningWithPytorch-SecondEdition\\.venv\\lib\\site-packages\\torch\\utils\\data\\dataloader.py:1370\u001b[0m, in \u001b[0;36m_MultiProcessingDataLoaderIter._process_data\u001b[1;34m(self, data)\u001b[0m\n\u001b[0;32m   1368\u001b[0m \u001b[38;5;28mself\u001b[39m\u001b[38;5;241m.\u001b[39m_try_put_index()\n\u001b[0;32m   1369\u001b[0m \u001b[38;5;28;01mif\u001b[39;00m \u001b[38;5;28misinstance\u001b[39m(data, ExceptionWrapper):\n\u001b[1;32m-> 1370\u001b[0m     \u001b[43mdata\u001b[49m\u001b[38;5;241;43m.\u001b[39;49m\u001b[43mreraise\u001b[49m\u001b[43m(\u001b[49m\u001b[43m)\u001b[49m\n\u001b[0;32m   1371\u001b[0m \u001b[38;5;28;01mreturn\u001b[39;00m data\n",
      "File \u001b[1;32mc:\\Users\\howardhuang\\MyCode\\DeepLearningWithPytorch-SecondEdition\\.venv\\lib\\site-packages\\torch\\_utils.py:706\u001b[0m, in \u001b[0;36mExceptionWrapper.reraise\u001b[1;34m(self)\u001b[0m\n\u001b[0;32m    702\u001b[0m \u001b[38;5;28;01mexcept\u001b[39;00m \u001b[38;5;167;01mTypeError\u001b[39;00m:\n\u001b[0;32m    703\u001b[0m     \u001b[38;5;66;03m# If the exception takes multiple arguments, don't try to\u001b[39;00m\n\u001b[0;32m    704\u001b[0m     \u001b[38;5;66;03m# instantiate since we don't know how to\u001b[39;00m\n\u001b[0;32m    705\u001b[0m     \u001b[38;5;28;01mraise\u001b[39;00m \u001b[38;5;167;01mRuntimeError\u001b[39;00m(msg) \u001b[38;5;28;01mfrom\u001b[39;00m \u001b[38;5;28;01mNone\u001b[39;00m\n\u001b[1;32m--> 706\u001b[0m \u001b[38;5;28;01mraise\u001b[39;00m exception\n",
      "\u001b[1;31mIndexError\u001b[0m: Caught IndexError in DataLoader worker process 0.\nOriginal Traceback (most recent call last):\n  File \"c:\\Users\\howardhuang\\MyCode\\DeepLearningWithPytorch-SecondEdition\\.venv\\lib\\site-packages\\torch\\utils\\data\\_utils\\worker.py\", line 309, in _worker_loop\n    data = fetcher.fetch(index)  # type: ignore[possibly-undefined]\n  File \"c:\\Users\\howardhuang\\MyCode\\DeepLearningWithPytorch-SecondEdition\\.venv\\lib\\site-packages\\torch\\utils\\data\\_utils\\fetch.py\", line 50, in fetch\n    data = self.dataset.__getitems__(possibly_batched_index)\n  File \"c:\\Users\\howardhuang\\MyCode\\DeepLearningWithPytorch-SecondEdition\\.venv\\lib\\site-packages\\torch\\utils\\data\\dataset.py\", line 420, in __getitems__\n    return [self.dataset[self.indices[idx]] for idx in indices]\n  File \"c:\\Users\\howardhuang\\MyCode\\DeepLearningWithPytorch-SecondEdition\\.venv\\lib\\site-packages\\torch\\utils\\data\\dataset.py\", line 420, in <listcomp>\n    return [self.dataset[self.indices[idx]] for idx in indices]\n  File \"c:\\Users\\howardhuang\\MyCode\\DeepLearningWithPytorch-SecondEdition\\code\\p2ch15\\dsets.py\", line 322, in __getitem__\n    return self.getitem_trainingCrop(candidateInfo_tup)\n  File \"c:\\Users\\howardhuang\\MyCode\\DeepLearningWithPytorch-SecondEdition\\code\\p2ch15\\dsets.py\", line 325, in getitem_trainingCrop\n    ct_a, pos_a, center_irc = getCtRawCandidate(\n  File \"c:\\Users\\howardhuang\\MyCode\\DeepLearningWithPytorch-SecondEdition\\.venv\\lib\\site-packages\\diskcache\\core.py\", line 1875, in wrapper\n    result = func(*args, **kwargs)\n  File \"c:\\Users\\howardhuang\\MyCode\\DeepLearningWithPytorch-SecondEdition\\code\\p2ch15\\dsets.py\", line 214, in getCtRawCandidate\n    ct = getCt(series_uid)\n  File \"c:\\Users\\howardhuang\\MyCode\\DeepLearningWithPytorch-SecondEdition\\code\\p2ch15\\dsets.py\", line 210, in getCt\n    return Ct(series_uid)\n  File \"c:\\Users\\howardhuang\\MyCode\\DeepLearningWithPytorch-SecondEdition\\code\\p2ch15\\dsets.py\", line 100, in __init__\n    mhd_path = glob.glob(\nIndexError: list index out of range\n"
     ]
    }
   ],
   "source": [
    "for batch in train_dl_subset:\n",
    "    print(batch)\n",
    "    # ct_tensor, positive, series_uid, slice_index = batch\n",
    "    break"
   ]
  },
  {
   "cell_type": "code",
   "execution_count": 15,
   "metadata": {},
   "outputs": [
    {
     "data": {
      "text/plain": [
       "('1.3.6.1.4.1.14519.5.2.1.6279.6001.228934821089041845791238006047',\n",
       " '1.3.6.1.4.1.14519.5.2.1.6279.6001.771831598853841017505646275338')"
      ]
     },
     "execution_count": 15,
     "metadata": {},
     "output_type": "execute_result"
    }
   ],
   "source": [
    "series_uid"
   ]
  },
  {
   "cell_type": "code",
   "execution_count": null,
   "metadata": {},
   "outputs": [],
   "source": [
    "ct_tensor.shape"
   ]
  },
  {
   "cell_type": "code",
   "execution_count": null,
   "metadata": {},
   "outputs": [],
   "source": []
  }
 ],
 "metadata": {
  "kernelspec": {
   "display_name": ".venv",
   "language": "python",
   "name": "python3"
  },
  "language_info": {
   "codemirror_mode": {
    "name": "ipython",
    "version": 3
   },
   "file_extension": ".py",
   "mimetype": "text/x-python",
   "name": "python",
   "nbconvert_exporter": "python",
   "pygments_lexer": "ipython3",
   "version": "3.10.11"
  }
 },
 "nbformat": 4,
 "nbformat_minor": 2
}
