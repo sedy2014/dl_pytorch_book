{
 "cells": [
  {
   "cell_type": "code",
   "execution_count": 1,
   "metadata": {},
   "outputs": [
    {
     "data": {
      "text/plain": [
       "<torch._C.Generator at 0x28b4ffa82f0>"
      ]
     },
     "execution_count": 1,
     "metadata": {},
     "output_type": "execute_result"
    }
   ],
   "source": [
    "%matplotlib inline\n",
    "from matplotlib import pyplot as plt\n",
    "import numpy as np\n",
    "import torch\n",
    "\n",
    "torch.set_printoptions(edgeitems=2)\n",
    "torch.manual_seed(123)"
   ]
  },
  {
   "cell_type": "code",
   "execution_count": 2,
   "metadata": {},
   "outputs": [],
   "source": [
    "class_names = ['airplane','automobile','bird','cat','deer',\n",
    "               'dog','frog','horse','ship','truck']"
   ]
  },
  {
   "cell_type": "code",
   "execution_count": 3,
   "metadata": {},
   "outputs": [],
   "source": [
    "from torchvision import datasets, transforms\n",
    "data_path = '../data-unversioned/p1ch7/'\n",
    "cifar10 = datasets.CIFAR10(\n",
    "    data_path, train=True, download=False,\n",
    "    transform=transforms.Compose([\n",
    "        transforms.ToTensor(),\n",
    "        transforms.Normalize((0.4915, 0.4823, 0.4468),\n",
    "                             (0.2470, 0.2435, 0.2616))\n",
    "    ]))"
   ]
  },
  {
   "cell_type": "code",
   "execution_count": 4,
   "metadata": {},
   "outputs": [],
   "source": [
    "cifar10_val = datasets.CIFAR10(\n",
    "    data_path, train=False, download=False,\n",
    "    transform=transforms.Compose([\n",
    "        transforms.ToTensor(),\n",
    "        transforms.Normalize((0.4915, 0.4823, 0.4468),\n",
    "                             (0.2470, 0.2435, 0.2616))\n",
    "    ]))"
   ]
  },
  {
   "cell_type": "code",
   "execution_count": 5,
   "metadata": {},
   "outputs": [],
   "source": [
    "label_map = {0: 0, 2: 1}\n",
    "class_names = ['airplane', 'bird']\n",
    "cifar2 = [(img, label_map[label])\n",
    "          for img, label in cifar10 \n",
    "          if label in [0, 2]]\n",
    "cifar2_val = [(img, label_map[label])\n",
    "              for img, label in cifar10_val\n",
    "              if label in [0, 2]]"
   ]
  },
  {
   "cell_type": "code",
   "execution_count": 6,
   "metadata": {},
   "outputs": [],
   "source": [
    "import torch.nn as nn\n",
    "\n",
    "n_out = 2\n",
    "\n",
    "model = nn.Sequential(\n",
    "            nn.Linear(\n",
    "                3072,  # <1>\n",
    "                512,   # <2>\n",
    "            ),\n",
    "            nn.Tanh(),\n",
    "            nn.Linear(\n",
    "                512,   # <2>\n",
    "                n_out, # <3>\n",
    "            )\n",
    "        )"
   ]
  },
  {
   "cell_type": "code",
   "execution_count": 7,
   "metadata": {},
   "outputs": [],
   "source": [
    "def softmax(x):\n",
    "    return torch.exp(x) / torch.exp(x).sum()"
   ]
  },
  {
   "cell_type": "code",
   "execution_count": 8,
   "metadata": {},
   "outputs": [
    {
     "data": {
      "text/plain": [
       "tensor([0.0900, 0.2447, 0.6652])"
      ]
     },
     "execution_count": 8,
     "metadata": {},
     "output_type": "execute_result"
    }
   ],
   "source": [
    "x = torch.tensor([1.0, 2.0, 3.0])\n",
    "\n",
    "softmax(x)"
   ]
  },
  {
   "cell_type": "code",
   "execution_count": 9,
   "metadata": {},
   "outputs": [
    {
     "data": {
      "text/plain": [
       "tensor(1.)"
      ]
     },
     "execution_count": 9,
     "metadata": {},
     "output_type": "execute_result"
    }
   ],
   "source": [
    "softmax(x).sum()"
   ]
  },
  {
   "cell_type": "code",
   "execution_count": 10,
   "metadata": {},
   "outputs": [
    {
     "data": {
      "text/plain": [
       "tensor([[0.0900, 0.2447, 0.6652],\n",
       "        [0.6652, 0.2447, 0.0900]])"
      ]
     },
     "execution_count": 10,
     "metadata": {},
     "output_type": "execute_result"
    }
   ],
   "source": [
    "softmax = nn.Softmax(dim=1)\n",
    "\n",
    "x = torch.tensor([[1.0, 2.0, 3.0],\n",
    "                  [3.0, 2.0, 1.0]])\n",
    "\n",
    "softmax(x)"
   ]
  },
  {
   "cell_type": "code",
   "execution_count": 11,
   "metadata": {},
   "outputs": [],
   "source": [
    "model = nn.Sequential(\n",
    "            nn.Linear(3072, 512),\n",
    "            nn.Tanh(),\n",
    "            nn.Linear(512, 2),\n",
    "            nn.Softmax(dim=1))"
   ]
  },
  {
   "cell_type": "code",
   "execution_count": 12,
   "metadata": {},
   "outputs": [
    {
     "name": "stderr",
     "output_type": "stream",
     "text": [
      "Clipping input data to the valid range for imshow with RGB data ([0..1] for floats or [0..255] for integers).\n"
     ]
    },
    {
     "data": {
      "image/png": "[encoded data removed]",
      "text/plain": [
       "<Figure size 640x480 with 1 Axes>"
      ]
     },
     "metadata": {},
     "output_type": "display_data"
    }
   ],
   "source": [
    "img, _ = cifar2[0]\n",
    "\n",
    "plt.imshow(img.permute(1, 2, 0))\n",
    "plt.show()"
   ]
  },
  {
   "cell_type": "code",
   "execution_count": 13,
   "metadata": {},
   "outputs": [],
   "source": [
    "img_batch = img.view(-1).unsqueeze(0)"
   ]
  },
  {
   "cell_type": "code",
   "execution_count": 14,
   "metadata": {},
   "outputs": [
    {
     "data": {
      "text/plain": [
       "tensor([[0.4784, 0.5216]], grad_fn=<SoftmaxBackward0>)"
      ]
     },
     "execution_count": 14,
     "metadata": {},
     "output_type": "execute_result"
    }
   ],
   "source": [
    "out = model(img_batch)\n",
    "out"
   ]
  },
  {
   "cell_type": "code",
   "execution_count": 15,
   "metadata": {},
   "outputs": [
    {
     "data": {
      "text/plain": [
       "tensor([1])"
      ]
     },
     "execution_count": 15,
     "metadata": {},
     "output_type": "execute_result"
    }
   ],
   "source": [
    "_, index = torch.max(out, dim=1)\n",
    "\n",
    "index"
   ]
  },
  {
   "cell_type": "code",
   "execution_count": 16,
   "metadata": {},
   "outputs": [],
   "source": [
    "model = nn.Sequential(\n",
    "            nn.Linear(3072, 512),\n",
    "            nn.Tanh(),\n",
    "            nn.Linear(512, 2),\n",
    "            nn.LogSoftmax(dim=1))"
   ]
  },
  {
   "cell_type": "code",
   "execution_count": 17,
   "metadata": {},
   "outputs": [],
   "source": [
    "loss = nn.NLLLoss()"
   ]
  },
  {
   "cell_type": "code",
   "execution_count": 18,
   "metadata": {},
   "outputs": [
    {
     "data": {
      "text/plain": [
       "tensor(0.5077, grad_fn=<NllLossBackward0>)"
      ]
     },
     "execution_count": 18,
     "metadata": {},
     "output_type": "execute_result"
    }
   ],
   "source": [
    "img, label = cifar2[0]\n",
    "out = model(img.view(-1).unsqueeze(0))\n",
    "loss(out, torch.tensor([label]))"
   ]
  },
  {
   "cell_type": "code",
   "execution_count": 19,
   "metadata": {},
   "outputs": [
    {
     "name": "stdout",
     "output_type": "stream",
     "text": [
      "Epoch: 0, Loss: 7.933513\n",
      "Epoch: 1, Loss: 4.865759\n",
      "Epoch: 2, Loss: 3.412104\n",
      "Epoch: 3, Loss: 9.836231\n",
      "Epoch: 4, Loss: 10.781808\n"
     ]
    }
   ],
   "source": [
    "import torch\n",
    "import torch.nn as nn\n",
    "import torch.optim as optim\n",
    "\n",
    "model = nn.Sequential(\n",
    "            nn.Linear(3072, 512),\n",
    "            nn.Tanh(),\n",
    "            nn.Linear(512, 2),\n",
    "            nn.LogSoftmax(dim=1))\n",
    "\n",
    "learning_rate = 1e-2\n",
    "optimizer = optim.SGD(model.parameters(), lr=learning_rate)\n",
    "loss_fn = nn.NLLLoss()\n",
    "n_epochs = 5\n",
    "\n",
    "for epoch in range(n_epochs):\n",
    "    for img, label in cifar2:\n",
    "        img_tensor = img.view(-1).unsqueeze(0)\n",
    "        label_tensor = torch.tensor([label])\n",
    "        out = model(img_tensor)\n",
    "        loss = loss_fn(out, label_tensor)\n",
    "                \n",
    "        optimizer.zero_grad()\n",
    "        loss.backward()\n",
    "        optimizer.step()\n",
    "\n",
    "    print(\"Epoch: %d, Loss: %f\" % (epoch, float(loss)))"
   ]
  },
  {
   "cell_type": "code",
   "execution_count": 20,
   "metadata": {},
   "outputs": [],
   "source": [
    "train_loader = torch.utils.data.DataLoader(cifar2, batch_size=64,\n",
    "                                           shuffle=True)"
   ]
  },
  {
   "cell_type": "code",
   "execution_count": 21,
   "metadata": {},
   "outputs": [
    {
     "name": "stderr",
     "output_type": "stream",
     "text": [
      "C:\\Users\\howardhuang\\AppData\\Local\\Temp\\ipykernel_49148\\9364895.py:19: UserWarning: To copy construct from a tensor, it is recommended to use sourceTensor.clone().detach() or sourceTensor.clone().detach().requires_grad_(True), rather than torch.tensor(sourceTensor).\n",
      "  label_tensor = torch.tensor(labels)\n"
     ]
    },
    {
     "name": "stdout",
     "output_type": "stream",
     "text": [
      "Epoch: 0, Loss: 0.318367\n",
      "Epoch: 1, Loss: 0.389473\n",
      "Epoch: 2, Loss: 0.427979\n",
      "Epoch: 3, Loss: 0.435714\n",
      "Epoch: 4, Loss: 0.504344\n",
      "Epoch: 5, Loss: 0.483689\n",
      "Epoch: 6, Loss: 0.308372\n",
      "Epoch: 7, Loss: 0.115488\n",
      "Epoch: 8, Loss: 0.513510\n",
      "Epoch: 9, Loss: 0.386493\n",
      "Epoch: 10, Loss: 0.274975\n",
      "Epoch: 11, Loss: 0.252231\n",
      "Epoch: 12, Loss: 0.213218\n",
      "Epoch: 13, Loss: 0.256708\n",
      "Epoch: 14, Loss: 0.316772\n",
      "Epoch: 15, Loss: 0.631465\n",
      "Epoch: 16, Loss: 0.423487\n",
      "Epoch: 17, Loss: 0.402729\n",
      "Epoch: 18, Loss: 0.307367\n",
      "Epoch: 19, Loss: 0.179422\n",
      "Epoch: 20, Loss: 0.379566\n",
      "Epoch: 21, Loss: 0.290748\n",
      "Epoch: 22, Loss: 0.270363\n",
      "Epoch: 23, Loss: 0.186533\n",
      "Epoch: 24, Loss: 0.285739\n",
      "Epoch: 25, Loss: 0.455766\n",
      "Epoch: 26, Loss: 0.263250\n",
      "Epoch: 27, Loss: 0.257489\n",
      "Epoch: 28, Loss: 0.253201\n",
      "Epoch: 29, Loss: 0.088151\n",
      "Epoch: 30, Loss: 0.119370\n",
      "Epoch: 31, Loss: 0.101625\n",
      "Epoch: 32, Loss: 0.247492\n",
      "Epoch: 33, Loss: 0.090906\n",
      "Epoch: 34, Loss: 0.172537\n",
      "Epoch: 35, Loss: 0.462267\n",
      "Epoch: 36, Loss: 0.273000\n",
      "Epoch: 37, Loss: 0.254223\n",
      "Epoch: 38, Loss: 0.348747\n",
      "Epoch: 39, Loss: 0.300148\n",
      "Epoch: 40, Loss: 0.063681\n",
      "Epoch: 41, Loss: 0.079803\n",
      "Epoch: 42, Loss: 0.135370\n",
      "Epoch: 43, Loss: 0.100524\n",
      "Epoch: 44, Loss: 0.055207\n",
      "Epoch: 45, Loss: 0.177615\n",
      "Epoch: 46, Loss: 0.146831\n",
      "Epoch: 47, Loss: 0.030244\n",
      "Epoch: 48, Loss: 0.113541\n",
      "Epoch: 49, Loss: 0.054586\n",
      "Epoch: 50, Loss: 0.088400\n",
      "Epoch: 51, Loss: 0.037736\n",
      "Epoch: 52, Loss: 0.044950\n",
      "Epoch: 53, Loss: 0.045306\n",
      "Epoch: 54, Loss: 0.122482\n",
      "Epoch: 55, Loss: 0.094259\n",
      "Epoch: 56, Loss: 0.113845\n",
      "Epoch: 57, Loss: 0.020960\n",
      "Epoch: 58, Loss: 0.047257\n",
      "Epoch: 59, Loss: 0.054770\n",
      "Epoch: 60, Loss: 0.057607\n",
      "Epoch: 61, Loss: 0.045996\n",
      "Epoch: 62, Loss: 0.019060\n",
      "Epoch: 63, Loss: 0.017909\n",
      "Epoch: 64, Loss: 0.062859\n",
      "Epoch: 65, Loss: 0.024708\n",
      "Epoch: 66, Loss: 0.028053\n",
      "Epoch: 67, Loss: 0.061581\n",
      "Epoch: 68, Loss: 0.025352\n",
      "Epoch: 69, Loss: 0.021476\n",
      "Epoch: 70, Loss: 0.015957\n",
      "Epoch: 71, Loss: 0.024176\n",
      "Epoch: 72, Loss: 0.139968\n",
      "Epoch: 73, Loss: 0.025018\n",
      "Epoch: 74, Loss: 0.017756\n",
      "Epoch: 75, Loss: 0.012510\n",
      "Epoch: 76, Loss: 0.062693\n",
      "Epoch: 77, Loss: 0.019162\n",
      "Epoch: 78, Loss: 0.026831\n",
      "Epoch: 79, Loss: 0.022641\n",
      "Epoch: 80, Loss: 0.006038\n",
      "Epoch: 81, Loss: 0.012924\n",
      "Epoch: 82, Loss: 0.010721\n",
      "Epoch: 83, Loss: 0.002646\n",
      "Epoch: 84, Loss: 0.017216\n",
      "Epoch: 85, Loss: 0.010292\n",
      "Epoch: 86, Loss: 0.009473\n",
      "Epoch: 87, Loss: 0.034917\n",
      "Epoch: 88, Loss: 0.013506\n",
      "Epoch: 89, Loss: 0.009394\n",
      "Epoch: 90, Loss: 0.010806\n",
      "Epoch: 91, Loss: 0.015954\n",
      "Epoch: 92, Loss: 0.011492\n",
      "Epoch: 93, Loss: 0.019395\n",
      "Epoch: 94, Loss: 0.011841\n",
      "Epoch: 95, Loss: 0.025058\n",
      "Epoch: 96, Loss: 0.015301\n",
      "Epoch: 97, Loss: 0.008132\n",
      "Epoch: 98, Loss: 0.011373\n",
      "Epoch: 99, Loss: 0.013405\n"
     ]
    }
   ],
   "source": [
    "train_loader = torch.utils.data.DataLoader(cifar2, batch_size=64,\n",
    "                                           shuffle=True)\n",
    "\n",
    "model = nn.Sequential(\n",
    "            nn.Linear(3072, 512),\n",
    "            nn.Tanh(),\n",
    "            nn.Linear(512, 2),\n",
    "            nn.LogSoftmax(dim=1))\n",
    "\n",
    "learning_rate = 1e-2\n",
    "optimizer = optim.SGD(model.parameters(), lr=learning_rate)\n",
    "loss_fn = nn.NLLLoss()\n",
    "n_epochs = 100\n",
    "\n",
    "for epoch in range(n_epochs):\n",
    "    for imgs, labels in train_loader:\n",
    "        batch_size = imgs.shape[0]\n",
    "        img_tensor = imgs.view(batch_size, -1)\n",
    "        label_tensor = torch.tensor(labels)\n",
    "        out = model(img_tensor)\n",
    "        loss = loss_fn(out, label_tensor)\n",
    "                \n",
    "        optimizer.zero_grad()\n",
    "        loss.backward()\n",
    "        optimizer.step()\n",
    "\n",
    "    print(\"Epoch: %d, Loss: %f\" % (epoch, float(loss)))"
   ]
  },
  {
   "cell_type": "code",
   "execution_count": 22,
   "metadata": {},
   "outputs": [
    {
     "name": "stdout",
     "output_type": "stream",
     "text": [
      "Accuracy: 0.810500\n"
     ]
    }
   ],
   "source": [
    "val_loader = torch.utils.data.DataLoader(cifar2_val, batch_size=64,\n",
    "                                         shuffle=False)\n",
    "\n",
    "correct = 0\n",
    "total = 0\n",
    "\n",
    "with torch.no_grad():\n",
    "    for imgs, labels in val_loader:\n",
    "        outputs = model(imgs.view(imgs.shape[0], -1))\n",
    "        _, predicted = torch.max(outputs, dim=1)\n",
    "        total += labels.shape[0]\n",
    "        correct += int((predicted == labels).sum())\n",
    "        \n",
    "print(\"Accuracy: %f\" % (correct / total))"
   ]
  },
  {
   "cell_type": "code",
   "execution_count": 23,
   "metadata": {},
   "outputs": [],
   "source": [
    "model = nn.Sequential(\n",
    "            nn.Linear(3072, 1024),\n",
    "            nn.Tanh(),\n",
    "            nn.Linear(1024, 512),\n",
    "            nn.Tanh(),\n",
    "            nn.Linear(512, 128),\n",
    "            nn.Tanh(),\n",
    "            nn.Linear(128, 2),\n",
    "            nn.LogSoftmax(dim=1))"
   ]
  },
  {
   "cell_type": "code",
   "execution_count": 24,
   "metadata": {},
   "outputs": [],
   "source": [
    "model = nn.Sequential(\n",
    "            nn.Linear(3072, 1024),\n",
    "            nn.Tanh(),\n",
    "            nn.Linear(1024, 512),\n",
    "            nn.Tanh(),\n",
    "            nn.Linear(512, 128),\n",
    "            nn.Tanh(),\n",
    "            nn.Linear(128, 2))\n",
    "\n",
    "loss_fn = nn.CrossEntropyLoss()"
   ]
  },
  {
   "cell_type": "code",
   "execution_count": 25,
   "metadata": {},
   "outputs": [
    {
     "name": "stderr",
     "output_type": "stream",
     "text": [
      "C:\\Users\\howardhuang\\AppData\\Local\\Temp\\ipykernel_49148\\3226406213.py:26: UserWarning: To copy construct from a tensor, it is recommended to use sourceTensor.clone().detach() or sourceTensor.clone().detach().requires_grad_(True), rather than torch.tensor(sourceTensor).\n",
      "  label_tensor = torch.tensor(labels)\n"
     ]
    },
    {
     "name": "stdout",
     "output_type": "stream",
     "text": [
      "Epoch: 0, Loss: 0.571264\n",
      "Epoch: 1, Loss: 0.313634\n",
      "Epoch: 2, Loss: 0.317605\n",
      "Epoch: 3, Loss: 0.339209\n",
      "Epoch: 4, Loss: 0.396129\n",
      "Epoch: 5, Loss: 0.502080\n",
      "Epoch: 6, Loss: 0.272827\n",
      "Epoch: 7, Loss: 0.275626\n",
      "Epoch: 8, Loss: 0.294260\n",
      "Epoch: 9, Loss: 0.277196\n",
      "Epoch: 10, Loss: 0.588599\n",
      "Epoch: 11, Loss: 0.679920\n",
      "Epoch: 12, Loss: 0.694684\n",
      "Epoch: 13, Loss: 0.216509\n",
      "Epoch: 14, Loss: 0.257251\n",
      "Epoch: 15, Loss: 0.367354\n",
      "Epoch: 16, Loss: 0.215198\n",
      "Epoch: 17, Loss: 0.159641\n",
      "Epoch: 18, Loss: 0.293755\n",
      "Epoch: 19, Loss: 0.328064\n",
      "Epoch: 20, Loss: 0.375317\n",
      "Epoch: 21, Loss: 0.381251\n",
      "Epoch: 22, Loss: 0.421697\n",
      "Epoch: 23, Loss: 0.186160\n",
      "Epoch: 24, Loss: 0.388323\n",
      "Epoch: 25, Loss: 0.295580\n",
      "Epoch: 26, Loss: 0.168410\n",
      "Epoch: 27, Loss: 0.273761\n",
      "Epoch: 28, Loss: 0.075763\n",
      "Epoch: 29, Loss: 0.226366\n",
      "Epoch: 30, Loss: 0.097388\n",
      "Epoch: 31, Loss: 0.134953\n",
      "Epoch: 32, Loss: 0.083903\n",
      "Epoch: 33, Loss: 0.213210\n",
      "Epoch: 34, Loss: 0.077667\n",
      "Epoch: 35, Loss: 0.294085\n",
      "Epoch: 36, Loss: 0.466938\n",
      "Epoch: 37, Loss: 0.069569\n",
      "Epoch: 38, Loss: 0.337082\n",
      "Epoch: 39, Loss: 0.043604\n",
      "Epoch: 40, Loss: 0.394409\n",
      "Epoch: 41, Loss: 0.089557\n",
      "Epoch: 42, Loss: 0.143271\n",
      "Epoch: 43, Loss: 0.041468\n",
      "Epoch: 44, Loss: 0.034691\n",
      "Epoch: 45, Loss: 0.156162\n",
      "Epoch: 46, Loss: 0.068570\n",
      "Epoch: 47, Loss: 0.209330\n",
      "Epoch: 48, Loss: 0.018960\n",
      "Epoch: 49, Loss: 0.043673\n",
      "Epoch: 50, Loss: 0.128867\n",
      "Epoch: 51, Loss: 0.099857\n",
      "Epoch: 52, Loss: 0.832665\n",
      "Epoch: 53, Loss: 0.016201\n",
      "Epoch: 54, Loss: 0.060363\n",
      "Epoch: 55, Loss: 0.012793\n",
      "Epoch: 56, Loss: 0.006818\n",
      "Epoch: 57, Loss: 0.015441\n",
      "Epoch: 58, Loss: 0.035839\n",
      "Epoch: 59, Loss: 0.007867\n",
      "Epoch: 60, Loss: 0.016963\n",
      "Epoch: 61, Loss: 0.006292\n",
      "Epoch: 62, Loss: 0.011022\n",
      "Epoch: 63, Loss: 0.007652\n",
      "Epoch: 64, Loss: 0.052086\n",
      "Epoch: 65, Loss: 0.047699\n",
      "Epoch: 66, Loss: 0.232182\n",
      "Epoch: 67, Loss: 0.017223\n",
      "Epoch: 68, Loss: 0.003991\n",
      "Epoch: 69, Loss: 0.002515\n",
      "Epoch: 70, Loss: 0.011756\n",
      "Epoch: 71, Loss: 0.003628\n",
      "Epoch: 72, Loss: 0.009310\n",
      "Epoch: 73, Loss: 0.002574\n",
      "Epoch: 74, Loss: 0.001901\n",
      "Epoch: 75, Loss: 0.002902\n",
      "Epoch: 76, Loss: 0.006603\n",
      "Epoch: 77, Loss: 0.002843\n",
      "Epoch: 78, Loss: 0.054683\n",
      "Epoch: 79, Loss: 0.005647\n",
      "Epoch: 80, Loss: 0.003988\n",
      "Epoch: 81, Loss: 0.003243\n",
      "Epoch: 82, Loss: 0.005832\n",
      "Epoch: 83, Loss: 0.000351\n",
      "Epoch: 84, Loss: 0.002901\n",
      "Epoch: 85, Loss: 0.000627\n",
      "Epoch: 86, Loss: 0.818654\n",
      "Epoch: 87, Loss: 0.007514\n",
      "Epoch: 88, Loss: 0.002616\n",
      "Epoch: 89, Loss: 0.003321\n",
      "Epoch: 90, Loss: 0.001032\n",
      "Epoch: 91, Loss: 0.001379\n",
      "Epoch: 92, Loss: 0.002112\n",
      "Epoch: 93, Loss: 0.003041\n",
      "Epoch: 94, Loss: 0.001571\n",
      "Epoch: 95, Loss: 0.000677\n",
      "Epoch: 96, Loss: 0.002345\n",
      "Epoch: 97, Loss: 0.003105\n",
      "Epoch: 98, Loss: 0.004900\n",
      "Epoch: 99, Loss: 0.004908\n"
     ]
    }
   ],
   "source": [
    "import torch\n",
    "import torch.nn as nn\n",
    "import torch.optim as optim\n",
    "\n",
    "train_loader = torch.utils.data.DataLoader(cifar2, batch_size=64,\n",
    "                                           shuffle=True)\n",
    "\n",
    "model = nn.Sequential(\n",
    "            nn.Linear(3072, 1024),\n",
    "            nn.Tanh(),\n",
    "            nn.Linear(1024, 512),\n",
    "            nn.Tanh(),\n",
    "            nn.Linear(512, 128),\n",
    "            nn.Tanh(),\n",
    "            nn.Linear(128, 2))\n",
    "\n",
    "learning_rate = 1e-2\n",
    "optimizer = optim.SGD(model.parameters(), lr=learning_rate)\n",
    "loss_fn = nn.CrossEntropyLoss()\n",
    "n_epochs = 100\n",
    "\n",
    "for epoch in range(n_epochs):\n",
    "    for imgs, labels in train_loader:\n",
    "        batch_size = imgs.shape[0]\n",
    "        img_tensor = imgs.view(batch_size, -1)\n",
    "        label_tensor = torch.tensor(labels)\n",
    "        out = model(img_tensor)\n",
    "        loss = loss_fn(out, label_tensor)\n",
    "                \n",
    "        optimizer.zero_grad()\n",
    "        loss.backward()\n",
    "        optimizer.step()\n",
    "    print(\"Epoch: %d, Loss: %f\" % (epoch, float(loss)))"
   ]
  },
  {
   "cell_type": "code",
   "execution_count": 26,
   "metadata": {},
   "outputs": [
    {
     "name": "stdout",
     "output_type": "stream",
     "text": [
      "Accuracy: 1.000000\n"
     ]
    }
   ],
   "source": [
    "train_loader = torch.utils.data.DataLoader(cifar2, batch_size=64,\n",
    "                                           shuffle=False)\n",
    "\n",
    "correct = 0\n",
    "total = 0\n",
    "\n",
    "with torch.no_grad():\n",
    "    for imgs, labels in train_loader:\n",
    "        outputs = model(imgs.view(imgs.shape[0], -1))\n",
    "        _, predicted = torch.max(outputs, dim=1)\n",
    "        total += labels.shape[0]\n",
    "        correct += int((predicted == labels).sum())\n",
    "        \n",
    "print(\"Accuracy: %f\" % (correct / total))"
   ]
  },
  {
   "cell_type": "code",
   "execution_count": 27,
   "metadata": {},
   "outputs": [
    {
     "name": "stdout",
     "output_type": "stream",
     "text": [
      "Accuracy: 0.805500\n"
     ]
    }
   ],
   "source": [
    "val_loader = torch.utils.data.DataLoader(cifar2_val, batch_size=64,\n",
    "                                         shuffle=False)\n",
    "\n",
    "correct = 0\n",
    "total = 0\n",
    "\n",
    "with torch.no_grad():\n",
    "    for imgs, labels in val_loader:\n",
    "        outputs = model(imgs.view(imgs.shape[0], -1))\n",
    "        _, predicted = torch.max(outputs, dim=1)\n",
    "        total += labels.shape[0]\n",
    "        correct += int((predicted == labels).sum())\n",
    "        \n",
    "print(\"Accuracy: %f\" % (correct / total))"
   ]
  },
  {
   "cell_type": "code",
   "execution_count": 28,
   "metadata": {},
   "outputs": [
    {
     "data": {
      "text/plain": [
       "(3737474, [3145728, 1024, 524288, 512, 65536, 128, 256, 2])"
      ]
     },
     "execution_count": 28,
     "metadata": {},
     "output_type": "execute_result"
    }
   ],
   "source": [
    "numel_list = [p.numel()\n",
    "              for p in model.parameters()\n",
    "              if p.requires_grad == True]\n",
    "sum(numel_list), numel_list"
   ]
  },
  {
   "cell_type": "code",
   "execution_count": 29,
   "metadata": {},
   "outputs": [
    {
     "data": {
      "text/plain": [
       "(1574402, [1572864, 512, 1024, 2])"
      ]
     },
     "execution_count": 29,
     "metadata": {},
     "output_type": "execute_result"
    }
   ],
   "source": [
    "first_model = nn.Sequential(\n",
    "                nn.Linear(3072, 512),\n",
    "                nn.Tanh(),\n",
    "                nn.Linear(512, 2),\n",
    "                nn.LogSoftmax(dim=1))\n",
    "\n",
    "numel_list = [p.numel() for p in first_model.parameters()]\n",
    "sum(numel_list), numel_list"
   ]
  },
  {
   "cell_type": "code",
   "execution_count": 30,
   "metadata": {},
   "outputs": [
    {
     "data": {
      "text/plain": [
       "(torch.Size([1024, 3072]), torch.Size([1024]))"
      ]
     },
     "execution_count": 30,
     "metadata": {},
     "output_type": "execute_result"
    }
   ],
   "source": [
    "linear = nn.Linear(3072, 1024)\n",
    "\n",
    "linear.weight.shape, linear.bias.shape"
   ]
  }
 ],
 "metadata": {
  "kernelspec": {
   "display_name": "Python 3",
   "language": "python",
   "name": "python3"
  },
  "language_info": {
   "codemirror_mode": {
    "name": "ipython",
    "version": 3
   },
   "file_extension": ".py",
   "mimetype": "text/x-python",
   "name": "python",
   "nbconvert_exporter": "python",
   "pygments_lexer": "ipython3",
   "version": "3.10.14"
  }
 },
 "nbformat": 4,
 "nbformat_minor": 2
}
