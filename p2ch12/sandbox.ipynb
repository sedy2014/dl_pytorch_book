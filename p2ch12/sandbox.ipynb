{
 "cells": [
  {
   "cell_type": "code",
   "execution_count": 21,
   "metadata": {},
   "outputs": [],
   "source": [
    "import os\n",
    "# Get the current working directory (where the notebook is located)\n",
    "current_dir = os.getcwd()\n",
    "parent_dir = os.path.dirname(current_dir)\n",
    "# Change the working directory to the parent directory\n",
    "os.chdir(parent_dir)"
   ]
  },
  {
   "cell_type": "code",
   "execution_count": 23,
   "metadata": {},
   "outputs": [
    {
     "name": "stdout",
     "output_type": "stream",
     "text": [
      "551066 data/part2/luna/candidates.csv\n"
     ]
    }
   ],
   "source": [
    "!wc -l data/part2/luna/candidates.csv"
   ]
  },
  {
   "cell_type": "code",
   "execution_count": null,
   "metadata": {},
   "outputs": [
    {
     "name": "stdout",
     "output_type": "stream",
     "text": [
      "seriesuid,coordX,coordY,coordZ,class\n",
      "1.3.6.1.4.1.14519.5.2.1.6279.6001.100225287222365663678666836860,-56.08,-67.85,-311.92,0\n",
      "1.3.6.1.4.1.14519.5.2.1.6279.6001.100225287222365663678666836860,53.21,-244.41,-245.17,0\n",
      "1.3.6.1.4.1.14519.5.2.1.6279.6001.100225287222365663678666836860,103.66,-121.8,-286.62,0\n",
      "1.3.6.1.4.1.14519.5.2.1.6279.6001.100225287222365663678666836860,-33.66,-72.75,-308.41,0\n",
      "1.3.6.1.4.1.14519.5.2.1.6279.6001.100225287222365663678666836860,-32.25,-85.36,-362.51,0\n",
      "1.3.6.1.4.1.14519.5.2.1.6279.6001.100225287222365663678666836860,-26.65,-203.07,-165.07,0\n",
      "1.3.6.1.4.1.14519.5.2.1.6279.6001.100225287222365663678666836860,-74.99,-114.79,-311.92,0\n",
      "1.3.6.1.4.1.14519.5.2.1.6279.6001.100225287222365663678666836860,-16.14,-248.61,-239.55,0\n",
      "1.3.6.1.4.1.14519.5.2.1.6279.6001.100225287222365663678666836860,135.89,-141.41,-252.2,0\n"
     ]
    }
   ],
   "source": [
    "!head data/part2/luna/candidates.csv"
   ]
  },
  {
   "cell_type": "code",
   "execution_count": 24,
   "metadata": {},
   "outputs": [
    {
     "name": "stdout",
     "output_type": "stream",
     "text": [
      "1351\n"
     ]
    }
   ],
   "source": [
    "!grep ',1$' data/part2/luna/candidates.csv | wc -l"
   ]
  },
  {
   "cell_type": "code",
   "execution_count": 25,
   "metadata": {},
   "outputs": [
    {
     "name": "stdout",
     "output_type": "stream",
     "text": [
      "1187 data/part2/luna/annotations.csv\n"
     ]
    }
   ],
   "source": [
    "!wc -l data/part2/luna/annotations.csv"
   ]
  },
  {
   "cell_type": "code",
   "execution_count": 26,
   "metadata": {},
   "outputs": [
    {
     "name": "stdout",
     "output_type": "stream",
     "text": [
      "seriesuid,coordX,coordY,coordZ,diameter_mm\n",
      "1.3.6.1.4.1.14519.5.2.1.6279.6001.100225287222365663678666836860,-128.6994211,-175.3192718,-298.3875064,5.651470635\n",
      "1.3.6.1.4.1.14519.5.2.1.6279.6001.100225287222365663678666836860,103.7836509,-211.9251487,-227.12125,4.224708481\n",
      "1.3.6.1.4.1.14519.5.2.1.6279.6001.100398138793540579077826395208,69.63901724,-140.9445859,876.3744957,5.786347814\n",
      "1.3.6.1.4.1.14519.5.2.1.6279.6001.100621383016233746780170740405,-24.0138242,192.1024053,-391.0812764,8.143261683\n",
      "1.3.6.1.4.1.14519.5.2.1.6279.6001.100621383016233746780170740405,2.441546798,172.4648812,-405.4937318,18.54514997\n",
      "1.3.6.1.4.1.14519.5.2.1.6279.6001.100621383016233746780170740405,90.93171321,149.0272657,-426.5447146,18.20857028\n",
      "1.3.6.1.4.1.14519.5.2.1.6279.6001.100621383016233746780170740405,89.54076865,196.4051593,-515.0733216,16.38127631\n",
      "1.3.6.1.4.1.14519.5.2.1.6279.6001.100953483028192176989979435275,81.50964574,54.9572186,-150.3464233,10.36232088\n",
      "1.3.6.1.4.1.14519.5.2.1.6279.6001.102681962408431413578140925249,105.0557924,19.82526014,-91.24725078,21.08961863\n"
     ]
    }
   ],
   "source": [
    "!head data/part2/luna/annotations.csv"
   ]
  },
  {
   "cell_type": "code",
   "execution_count": null,
   "metadata": {},
   "outputs": [
    {
     "name": "stdout",
     "output_type": "stream",
     "text": [
      "1.3.6.1.4.1.14519.5.2.1.6279.6001.100225287222365663678666836860,-128.6994211,-175.3192718,-298.3875064,5.651470635\n",
      "1.3.6.1.4.1.14519.5.2.1.6279.6001.100225287222365663678666836860,103.7836509,-211.9251487,-227.12125,4.224708481\n"
     ]
    }
   ],
   "source": [
    "!grep 100225287222365663678666836860 data/part2/luna/annotations.csv"
   ]
  },
  {
   "cell_type": "code",
   "execution_count": 27,
   "metadata": {},
   "outputs": [
    {
     "name": "stdout",
     "output_type": "stream",
     "text": [
      "1.3.6.1.4.1.14519.5.2.1.6279.6001.100225287222365663678666836860,104.16480444,-211.685591018,-227.011363746,1\n",
      "1.3.6.1.4.1.14519.5.2.1.6279.6001.100225287222365663678666836860,-128.94,-175.04,-297.87,1\n"
     ]
    }
   ],
   "source": [
    "!grep '100225287222365663678666836860.*,1$' data/part2/luna/candidates.csv"
   ]
  },
  {
   "cell_type": "code",
   "execution_count": 28,
   "metadata": {},
   "outputs": [
    {
     "name": "stderr",
     "output_type": "stream",
     "text": [
      "2024-11-10 17:01:15,256 INFO     pid:15916 p2ch12.dsets:173:__init__ <p2ch12.dsets.LunaDataset object at 0x000001E47F9407C0>: 551065 training samples\n"
     ]
    },
    {
     "name": "stdout",
     "output_type": "stream",
     "text": [
      "0 CandidateInfoTuple(isNodule_bool=True, diameter_mm=32.27003025, series_uid='1.3.6.1.4.1.14519.5.2.1.6279.6001.287966244644280690737019247886', center_xyz=(67.61451718, 85.02525992, -109.8084416))\n",
      "1 CandidateInfoTuple(isNodule_bool=True, diameter_mm=30.61040636, series_uid='1.3.6.1.4.1.14519.5.2.1.6279.6001.112740418331256326754121315800', center_xyz=(47.90350511, 37.60442008, -99.93417567))\n",
      "2 CandidateInfoTuple(isNodule_bool=True, diameter_mm=30.61040636, series_uid='1.3.6.1.4.1.14519.5.2.1.6279.6001.112740418331256326754121315800', center_xyz=(44.19, 37.79, -107.01))\n",
      "3 CandidateInfoTuple(isNodule_bool=True, diameter_mm=30.61040636, series_uid='1.3.6.1.4.1.14519.5.2.1.6279.6001.112740418331256326754121315800', center_xyz=(40.69, 32.19, -97.15))\n",
      "4 CandidateInfoTuple(isNodule_bool=True, diameter_mm=27.44242293, series_uid='1.3.6.1.4.1.14519.5.2.1.6279.6001.943403138251347598519939390311', center_xyz=(-45.29440163, 74.86925386, -97.52812481))\n",
      "5 CandidateInfoTuple(isNodule_bool=True, diameter_mm=27.07544345, series_uid='1.3.6.1.4.1.14519.5.2.1.6279.6001.481278873893653517789960724156', center_xyz=(-102.571208, -5.186558766, -205.1033412))\n",
      "6 CandidateInfoTuple(isNodule_bool=True, diameter_mm=26.83708074, series_uid='1.3.6.1.4.1.14519.5.2.1.6279.6001.487268565754493433372433148666', center_xyz=(121.152909372, 12.9136003304, -159.399497186))\n",
      "7 CandidateInfoTuple(isNodule_bool=True, diameter_mm=26.83708074, series_uid='1.3.6.1.4.1.14519.5.2.1.6279.6001.487268565754493433372433148666', center_xyz=(118.8539408, 11.54202797, -165.5042458))\n",
      "8 CandidateInfoTuple(isNodule_bool=True, diameter_mm=25.87269662, series_uid='1.3.6.1.4.1.14519.5.2.1.6279.6001.177086402277715068525592995222', center_xyz=(-66.628286875, 57.151972075, -110.12035075))\n",
      "9 CandidateInfoTuple(isNodule_bool=True, diameter_mm=25.41540526, series_uid='1.3.6.1.4.1.14519.5.2.1.6279.6001.219618492426142913407827034169', center_xyz=(-101.7504204, -95.65460516, -138.4943211))\n",
      "10 CandidateInfoTuple(isNodule_bool=True, diameter_mm=25.23320204, series_uid='1.3.6.1.4.1.14519.5.2.1.6279.6001.511347030803753100045216493273', center_xyz=(63.4740118048, 73.9174523314, -213.736128767))\n",
      "11 CandidateInfoTuple(isNodule_bool=True, diameter_mm=24.78201705, series_uid='1.3.6.1.4.1.14519.5.2.1.6279.6001.183982839679953938397312236359', center_xyz=(-44.69, 69.79, -149.72))\n",
      "12 CandidateInfoTuple(isNodule_bool=True, diameter_mm=24.78201705, series_uid='1.3.6.1.4.1.14519.5.2.1.6279.6001.183982839679953938397312236359', center_xyz=(-46.36896147, 64.20509868, -149.8345695))\n",
      "13 CandidateInfoTuple(isNodule_bool=True, diameter_mm=24.78201705, series_uid='1.3.6.1.4.1.14519.5.2.1.6279.6001.183982839679953938397312236359', center_xyz=(-51.69, 60.69, -151.84))\n",
      "14 CandidateInfoTuple(isNodule_bool=True, diameter_mm=24.77327957, series_uid='1.3.6.1.4.1.14519.5.2.1.6279.6001.146987333806092287055399155268', center_xyz=(97.3540746077, -16.7922286632, -263.659908373))\n",
      "15 CandidateInfoTuple(isNodule_bool=True, diameter_mm=24.77327957, series_uid='1.3.6.1.4.1.14519.5.2.1.6279.6001.146987333806092287055399155268', center_xyz=(96.9273129009, -25.9394823208, -259.572637924))\n",
      "16 CandidateInfoTuple(isNodule_bool=True, diameter_mm=24.77327957, series_uid='1.3.6.1.4.1.14519.5.2.1.6279.6001.146987333806092287055399155268', center_xyz=(96.7240184522, -15.392485207, -254.088367666))\n",
      "17 CandidateInfoTuple(isNodule_bool=True, diameter_mm=24.77327957, series_uid='1.3.6.1.4.1.14519.5.2.1.6279.6001.146987333806092287055399155268', center_xyz=(92.04749503, -21.50898302, -258.0493441))\n",
      "18 CandidateInfoTuple(isNodule_bool=True, diameter_mm=24.66335961, series_uid='1.3.6.1.4.1.14519.5.2.1.6279.6001.316900421002460665752357657094', center_xyz=(-101.02413021, -46.3316843088, -138.184349429))\n",
      "19 CandidateInfoTuple(isNodule_bool=True, diameter_mm=24.28186352, series_uid='1.3.6.1.4.1.14519.5.2.1.6279.6001.153985109349433321657655488650', center_xyz=(-31.27671425, 50.03085749, -62.114861675))\n",
      "20 CandidateInfoTuple(isNodule_bool=True, diameter_mm=24.28186352, series_uid='1.3.6.1.4.1.14519.5.2.1.6279.6001.153985109349433321657655488650', center_xyz=(-35.8713914979, 44.7804912383, -64.3671546075))\n",
      "21 CandidateInfoTuple(isNodule_bool=True, diameter_mm=23.93362973, series_uid='1.3.6.1.4.1.14519.5.2.1.6279.6001.267957701183569638795986183786', center_xyz=(-93.56243383, -176.0629504, 213.322413))\n",
      "22 CandidateInfoTuple(isNodule_bool=True, diameter_mm=23.93362973, series_uid='1.3.6.1.4.1.14519.5.2.1.6279.6001.267957701183569638795986183786', center_xyz=(-97.37, -178.69, 207.83))\n",
      "23 CandidateInfoTuple(isNodule_bool=True, diameter_mm=23.80291305, series_uid='1.3.6.1.4.1.14519.5.2.1.6279.6001.997611074084993415992563148335', center_xyz=(-23.71929698, 31.71448919, -156.1722334))\n",
      "24 CandidateInfoTuple(isNodule_bool=True, diameter_mm=23.68811013, series_uid='1.3.6.1.4.1.14519.5.2.1.6279.6001.194766721609772924944646251928', center_xyz=(-110.51142385, 8.69531556, -123.28560915))\n",
      "25 CandidateInfoTuple(isNodule_bool=True, diameter_mm=23.57156231, series_uid='1.3.6.1.4.1.14519.5.2.1.6279.6001.220596530836092324070084384692', center_xyz=(-83.80648889, 247.1206328, -508.1281928))\n",
      "26 CandidateInfoTuple(isNodule_bool=True, diameter_mm=23.48374545, series_uid='1.3.6.1.4.1.14519.5.2.1.6279.6001.148447286464082095534651426689', center_xyz=(-90.1922382588, 32.9077042197, -127.738768532))\n",
      "27 CandidateInfoTuple(isNodule_bool=True, diameter_mm=23.48374545, series_uid='1.3.6.1.4.1.14519.5.2.1.6279.6001.148447286464082095534651426689', center_xyz=(-93.9441715503, 28.8165564567, -130.21511348))\n",
      "28 CandidateInfoTuple(isNodule_bool=True, diameter_mm=23.35064438, series_uid='1.3.6.1.4.1.14519.5.2.1.6279.6001.179049373636438705059720603192', center_xyz=(57.42, 81.14, -118.09))\n",
      "29 CandidateInfoTuple(isNodule_bool=True, diameter_mm=23.35064438, series_uid='1.3.6.1.4.1.14519.5.2.1.6279.6001.179049373636438705059720603192', center_xyz=(56.4889724157, 85.9418105037, -115.9731945))\n",
      "30 CandidateInfoTuple(isNodule_bool=True, diameter_mm=23.35064438, series_uid='1.3.6.1.4.1.14519.5.2.1.6279.6001.179049373636438705059720603192', center_xyz=(50.4361084414, 90.0424445754, -113.908439345))\n",
      "31 CandidateInfoTuple(isNodule_bool=True, diameter_mm=23.35064438, series_uid='1.3.6.1.4.1.14519.5.2.1.6279.6001.179049373636438705059720603192', center_xyz=(50.42, 85.34, -118.09))\n",
      "32 CandidateInfoTuple(isNodule_bool=True, diameter_mm=23.04344837, series_uid='1.3.6.1.4.1.14519.5.2.1.6279.6001.329404588567903628160652715124', center_xyz=(37.5974516166, -29.0404354588, -89.5895072532))\n",
      "33 CandidateInfoTuple(isNodule_bool=True, diameter_mm=22.88079244, series_uid='1.3.6.1.4.1.14519.5.2.1.6279.6001.272348349298439120568330857680', center_xyz=(-47.99377473, 46.12731074, -87.873371315))\n",
      "34 CandidateInfoTuple(isNodule_bool=True, diameter_mm=22.78152704, series_uid='1.3.6.1.4.1.14519.5.2.1.6279.6001.487745546557477250336016826588', center_xyz=(52.18, -21.02, -81.16))\n",
      "35 CandidateInfoTuple(isNodule_bool=True, diameter_mm=22.78152704, series_uid='1.3.6.1.4.1.14519.5.2.1.6279.6001.487745546557477250336016826588', center_xyz=(47.91906761, -15.33163049, -79.39068082))\n",
      "36 CandidateInfoTuple(isNodule_bool=True, diameter_mm=22.77961842, series_uid='1.3.6.1.4.1.14519.5.2.1.6279.6001.280072876841890439628529365478', center_xyz=(106.735462, -126.2609139, -246.7420448))\n",
      "37 CandidateInfoTuple(isNodule_bool=True, diameter_mm=22.77961842, series_uid='1.3.6.1.4.1.14519.5.2.1.6279.6001.280072876841890439628529365478', center_xyz=(105.333333214, -122.206423177, -250.179791813))\n",
      "38 CandidateInfoTuple(isNodule_bool=True, diameter_mm=22.46928325, series_uid='1.3.6.1.4.1.14519.5.2.1.6279.6001.323408652979949774528873200770', center_xyz=(71.85144885, -14.25481301, -196.650432))\n",
      "39 CandidateInfoTuple(isNodule_bool=True, diameter_mm=22.30485311, series_uid='1.3.6.1.4.1.14519.5.2.1.6279.6001.300136985030081433029390459071', center_xyz=(120.7322104, 8.225171006, -225.9610159))\n",
      "40 CandidateInfoTuple(isNodule_bool=True, diameter_mm=22.23698113, series_uid='1.3.6.1.4.1.14519.5.2.1.6279.6001.613212850444255764524630781782', center_xyz=(-25.152181, 22.59259632, -187.736925))\n",
      "41 CandidateInfoTuple(isNodule_bool=True, diameter_mm=22.22543938, series_uid='1.3.6.1.4.1.14519.5.2.1.6279.6001.286422846896797433168187085942', center_xyz=(-89.5875500717, 11.3033645407, -70.9842087538))\n",
      "42 CandidateInfoTuple(isNodule_bool=True, diameter_mm=22.13533119, series_uid='1.3.6.1.4.1.14519.5.2.1.6279.6001.272123398257168239653655006815', center_xyz=(127.381224886, 35.3882732546, -227.662204027))\n",
      "43 CandidateInfoTuple(isNodule_bool=True, diameter_mm=22.13322034, series_uid='1.3.6.1.4.1.14519.5.2.1.6279.6001.121391737347333465796214915391', center_xyz=(51.27, -67.3, -117.57))\n",
      "44 CandidateInfoTuple(isNodule_bool=True, diameter_mm=22.13322034, series_uid='1.3.6.1.4.1.14519.5.2.1.6279.6001.121391737347333465796214915391', center_xyz=(46.423809125, -64.87603544, -122.4506795))\n",
      "45 CandidateInfoTuple(isNodule_bool=True, diameter_mm=22.03891888, series_uid='1.3.6.1.4.1.14519.5.2.1.6279.6001.272344603176687884771013620823', center_xyz=(96.97240574, 1.775612227, -113.0049791))\n",
      "46 CandidateInfoTuple(isNodule_bool=True, diameter_mm=21.87973183, series_uid='1.3.6.1.4.1.14519.5.2.1.6279.6001.625270601160880745954773142570', center_xyz=(-108.2007072, 46.48017452, -143.2481594))\n",
      "47 CandidateInfoTuple(isNodule_bool=True, diameter_mm=21.87973183, series_uid='1.3.6.1.4.1.14519.5.2.1.6279.6001.625270601160880745954773142570', center_xyz=(-109.95, 40.62, -145.83))\n",
      "48 CandidateInfoTuple(isNodule_bool=True, diameter_mm=21.82795321, series_uid='1.3.6.1.4.1.14519.5.2.1.6279.6001.123697637451437522065941162930', center_xyz=(-128.341115395, -14.2479988938, -77.7156132477))\n",
      "49 CandidateInfoTuple(isNodule_bool=True, diameter_mm=21.67749437, series_uid='1.3.6.1.4.1.14519.5.2.1.6279.6001.306948744223170422945185006551', center_xyz=(115.8300923, -1.798282385, -208.7569347))\n",
      "50 CandidateInfoTuple(isNodule_bool=True, diameter_mm=21.58311204, series_uid='1.3.6.1.4.1.14519.5.2.1.6279.6001.905371958588660410240398317235', center_xyz=(109.142472723, 49.6356928166, -121.183579092))\n",
      "51 CandidateInfoTuple(isNodule_bool=True, diameter_mm=21.57854728, series_uid='1.3.6.1.4.1.14519.5.2.1.6279.6001.624425075947752229712087113746', center_xyz=(-72.66975017, -60.94410393, -262.0051515))\n",
      "52 CandidateInfoTuple(isNodule_bool=True, diameter_mm=21.47561299, series_uid='1.3.6.1.4.1.14519.5.2.1.6279.6001.169128136262002764211589185953', center_xyz=(54.4462360178, 10.0927486763, -36.7112190437))\n",
      "53 CandidateInfoTuple(isNodule_bool=True, diameter_mm=21.45372882, series_uid='1.3.6.1.4.1.14519.5.2.1.6279.6001.170706757615202213033480003264', center_xyz=(72.1526638728, 77.4822388214, -193.387020499))\n",
      "54 CandidateInfoTuple(isNodule_bool=True, diameter_mm=21.34312682, series_uid='1.3.6.1.4.1.14519.5.2.1.6279.6001.675543413149938600000570588203', center_xyz=(106.744776799, -104.042070817, -208.328811627))\n",
      "55 CandidateInfoTuple(isNodule_bool=True, diameter_mm=21.25611171, series_uid='1.3.6.1.4.1.14519.5.2.1.6279.6001.163901773171373940247829492387', center_xyz=(-62.43562668, 40.89339483, -418.7333581))\n",
      "56 CandidateInfoTuple(isNodule_bool=True, diameter_mm=21.08961863, series_uid='1.3.6.1.4.1.14519.5.2.1.6279.6001.102681962408431413578140925249', center_xyz=(104.81380335, 20.8385087972, -92.6909672057))\n",
      "57 CandidateInfoTuple(isNodule_bool=True, diameter_mm=21.08245746, series_uid='1.3.6.1.4.1.14519.5.2.1.6279.6001.323753921818102744511069914832', center_xyz=(97.0113860538, 57.5982093699, -278.590343715))\n",
      "58 CandidateInfoTuple(isNodule_bool=True, diameter_mm=21.08245746, series_uid='1.3.6.1.4.1.14519.5.2.1.6279.6001.323753921818102744511069914832', center_xyz=(94.13, 58.79, -283.32))\n",
      "59 CandidateInfoTuple(isNodule_bool=True, diameter_mm=20.91111634, series_uid='1.3.6.1.4.1.14519.5.2.1.6279.6001.741709061958490690246385302477', center_xyz=(113.897541, -22.39244268, -162.31478))\n",
      "60 CandidateInfoTuple(isNodule_bool=True, diameter_mm=20.91111634, series_uid='1.3.6.1.4.1.14519.5.2.1.6279.6001.741709061958490690246385302477', center_xyz=(110.203735675, -20.1807410084, -165.26117976))\n",
      "61 CandidateInfoTuple(isNodule_bool=True, diameter_mm=20.88367551, series_uid='1.3.6.1.4.1.14519.5.2.1.6279.6001.616033753016904899083676284739', center_xyz=(-39.40689448, 112.1820721, -174.0780178))\n",
      "62 CandidateInfoTuple(isNodule_bool=True, diameter_mm=20.52475616, series_uid='1.3.6.1.4.1.14519.5.2.1.6279.6001.198698492013538481395497694975', center_xyz=(67.1465716505, 69.5146890415, -217.556904881))\n",
      "63 CandidateInfoTuple(isNodule_bool=True, diameter_mm=20.4841094, series_uid='1.3.6.1.4.1.14519.5.2.1.6279.6001.167237290696350215427953159586', center_xyz=(-89.45197187, -12.46417869, -122.368542))\n",
      "64 CandidateInfoTuple(isNodule_bool=True, diameter_mm=20.41212558, series_uid='1.3.6.1.4.1.14519.5.2.1.6279.6001.206097113343059612247503064658', center_xyz=(67.7764023684, -122.674798775, -155.064786875))\n",
      "65 CandidateInfoTuple(isNodule_bool=True, diameter_mm=20.38922514, series_uid='1.3.6.1.4.1.14519.5.2.1.6279.6001.271307051432838466826189754230', center_xyz=(124.3919697, -5.470035499, -263.7667514))\n",
      "66 CandidateInfoTuple(isNodule_bool=True, diameter_mm=20.38922514, series_uid='1.3.6.1.4.1.14519.5.2.1.6279.6001.271307051432838466826189754230', center_xyz=(120.809702607, -3.01965540139, -258.826817821))\n",
      "67 CandidateInfoTuple(isNodule_bool=True, diameter_mm=20.15998367, series_uid='1.3.6.1.4.1.14519.5.2.1.6279.6001.194632613233275988184244485809', center_xyz=(-47.08080052, -10.14514114, -95.64764905))\n",
      "68 CandidateInfoTuple(isNodule_bool=True, diameter_mm=20.11629595, series_uid='1.3.6.1.4.1.14519.5.2.1.6279.6001.655242448149322898770987310561', center_xyz=(-50.67176053, -13.36207647, -308.4063333))\n",
      "69 CandidateInfoTuple(isNodule_bool=True, diameter_mm=20.03584717, series_uid='1.3.6.1.4.1.14519.5.2.1.6279.6001.272123398257168239653655006815', center_xyz=(107.311250506, -0.937213524814, -188.600748396))\n",
      "70 CandidateInfoTuple(isNodule_bool=True, diameter_mm=19.92726356, series_uid='1.3.6.1.4.1.14519.5.2.1.6279.6001.948414623428298219623354433437', center_xyz=(-42.134598795, -37.86320447, -124.4268055))\n",
      "71 CandidateInfoTuple(isNodule_bool=True, diameter_mm=19.91668687, series_uid='1.3.6.1.4.1.14519.5.2.1.6279.6001.217955041973656886482758642958', center_xyz=(-44.41190009, 56.88723854, -48.55486639))\n",
      "72 CandidateInfoTuple(isNodule_bool=True, diameter_mm=19.84919656, series_uid='1.3.6.1.4.1.14519.5.2.1.6279.6001.211956804948320236390242845468', center_xyz=(46.1665905401, 170.74564813, -528.435433467))\n",
      "73 CandidateInfoTuple(isNodule_bool=True, diameter_mm=19.65387738, series_uid='1.3.6.1.4.1.14519.5.2.1.6279.6001.752756872840730509471096155114', center_xyz=(56.1226132601, 67.868268695, -65.6269886453))\n",
      "74 CandidateInfoTuple(isNodule_bool=True, diameter_mm=19.57555466, series_uid='1.3.6.1.4.1.14519.5.2.1.6279.6001.252634638822000832774167856951', center_xyz=(60.4248994838, 67.1512058204, -99.1406061111))\n",
      "75 CandidateInfoTuple(isNodule_bool=True, diameter_mm=19.34841823, series_uid='1.3.6.1.4.1.14519.5.2.1.6279.6001.198698492013538481395497694975', center_xyz=(82.81, -15.75, -162.89))\n",
      "76 CandidateInfoTuple(isNodule_bool=True, diameter_mm=19.34841823, series_uid='1.3.6.1.4.1.14519.5.2.1.6279.6001.198698492013538481395497694975', center_xyz=(77.2727775603, -16.7787004936, -164.485662499))\n",
      "77 CandidateInfoTuple(isNodule_bool=True, diameter_mm=19.310152, series_uid='1.3.6.1.4.1.14519.5.2.1.6279.6001.259123825760999546551970425757', center_xyz=(-41.68688864, 177.8605527, -381.5487979))\n",
      "78 CandidateInfoTuple(isNodule_bool=True, diameter_mm=19.0442187, series_uid='1.3.6.1.4.1.14519.5.2.1.6279.6001.173931884906244951746140865701', center_xyz=(75.83954427, 85.728505625, -193.82938625))\n",
      "79 CandidateInfoTuple(isNodule_bool=True, diameter_mm=18.99864751, series_uid='1.3.6.1.4.1.14519.5.2.1.6279.6001.290135156874098366424871975734', center_xyz=(-58.9822830798, 92.211052775, -217.824186038))\n",
      "80 CandidateInfoTuple(isNodule_bool=True, diameter_mm=18.98004463, series_uid='1.3.6.1.4.1.14519.5.2.1.6279.6001.948414623428298219623354433437', center_xyz=(-80.52844797, 23.70176427, -183.1614706))\n",
      "81 CandidateInfoTuple(isNodule_bool=True, diameter_mm=18.86783511, series_uid='1.3.6.1.4.1.14519.5.2.1.6279.6001.323408652979949774528873200770', center_xyz=(75.3236441, 30.87016712, -101.1660698))\n",
      "82 CandidateInfoTuple(isNodule_bool=True, diameter_mm=18.86783511, series_uid='1.3.6.1.4.1.14519.5.2.1.6279.6001.323408652979949774528873200770', center_xyz=(70.8255923438, 27.9653840377, -101.655301073))\n",
      "83 CandidateInfoTuple(isNodule_bool=True, diameter_mm=18.82522399, series_uid='1.3.6.1.4.1.14519.5.2.1.6279.6001.204802250386343794613980417281', center_xyz=(103.538289264, -149.865277714, -168.620028573))\n",
      "84 CandidateInfoTuple(isNodule_bool=True, diameter_mm=18.82522399, series_uid='1.3.6.1.4.1.14519.5.2.1.6279.6001.204802250386343794613980417281', center_xyz=(99.91284756, -146.2387841, -169.4623634))\n",
      "85 CandidateInfoTuple(isNodule_bool=True, diameter_mm=18.79314938, series_uid='1.3.6.1.4.1.14519.5.2.1.6279.6001.143622857676008763729469324839', center_xyz=(-77.05987845, -149.57574, -127.5254171))\n",
      "86 CandidateInfoTuple(isNodule_bool=True, diameter_mm=18.7832325, series_uid='1.3.6.1.4.1.14519.5.2.1.6279.6001.202811684116768680758082619196', center_xyz=(-82.79150362, -21.43587141, -97.18427459))\n",
      "87 CandidateInfoTuple(isNodule_bool=True, diameter_mm=18.67552564, series_uid='1.3.6.1.4.1.14519.5.2.1.6279.6001.970428941353693253759289796610', center_xyz=(-115.0750247, 64.37987761, -140.4059531))\n",
      "88 CandidateInfoTuple(isNodule_bool=True, diameter_mm=18.54514997, series_uid='1.3.6.1.4.1.14519.5.2.1.6279.6001.100621383016233746780170740405', center_xyz=(2.019565949, 172.5930677, -405.0528932))\n",
      "89 CandidateInfoTuple(isNodule_bool=True, diameter_mm=18.50978255, series_uid='1.3.6.1.4.1.14519.5.2.1.6279.6001.282512043257574309474415322775', center_xyz=(-87.764383255, 5.7813887, -184.80125035))\n",
      "90 CandidateInfoTuple(isNodule_bool=True, diameter_mm=18.40907555, series_uid='1.3.6.1.4.1.14519.5.2.1.6279.6001.613212850444255764524630781782', center_xyz=(-19.84160513, 34.92769866, -208.1710437))\n",
      "91 CandidateInfoTuple(isNodule_bool=True, diameter_mm=18.38478817, series_uid='1.3.6.1.4.1.14519.5.2.1.6279.6001.172243743899615313644757844726', center_xyz=(-132.919547876, 62.5582296311, -102.150007628))\n",
      "92 CandidateInfoTuple(isNodule_bool=True, diameter_mm=18.210145, series_uid='1.3.6.1.4.1.14519.5.2.1.6279.6001.287966244644280690737019247886', center_xyz=(102.8434969, 67.07660635, -238.6002813))\n",
      "93 CandidateInfoTuple(isNodule_bool=True, diameter_mm=18.20857028, series_uid='1.3.6.1.4.1.14519.5.2.1.6279.6001.100621383016233746780170740405', center_xyz=(94.93, 153.03, -429.91))\n",
      "94 CandidateInfoTuple(isNodule_bool=True, diameter_mm=18.20857028, series_uid='1.3.6.1.4.1.14519.5.2.1.6279.6001.100621383016233746780170740405', center_xyz=(90.7864693642, 148.811688395, -426.70448803))\n",
      "95 CandidateInfoTuple(isNodule_bool=True, diameter_mm=18.15623418, series_uid='1.3.6.1.4.1.14519.5.2.1.6279.6001.897684031374557757145405000951', center_xyz=(47.48394836, 186.8059443, -729.2846031))\n",
      "96 CandidateInfoTuple(isNodule_bool=True, diameter_mm=18.12790811, series_uid='1.3.6.1.4.1.14519.5.2.1.6279.6001.107109359065300889765026303943', center_xyz=(-97.54122491, -73.36723259, -222.9974028))\n",
      "97 CandidateInfoTuple(isNodule_bool=True, diameter_mm=18.02111617, series_uid='1.3.6.1.4.1.14519.5.2.1.6279.6001.257383535269991165447822992959', center_xyz=(-14.0390189941, 54.1839549346, -169.093320723))\n",
      "98 CandidateInfoTuple(isNodule_bool=True, diameter_mm=17.98864725, series_uid='1.3.6.1.4.1.14519.5.2.1.6279.6001.275007193025729362844652516689', center_xyz=(-29.34081638, -18.82685309, -134.5196606))\n",
      "99 CandidateInfoTuple(isNodule_bool=True, diameter_mm=17.75323185, series_uid='1.3.6.1.4.1.14519.5.2.1.6279.6001.187451715205085403623595258748', center_xyz=(94.1132711884, -15.8936132585, -202.847228297))\n"
     ]
    }
   ],
   "source": [
    "from p2ch12.vis import findPositiveSamples\n",
    "positiveSample_list = findPositiveSamples()"
   ]
  },
  {
   "cell_type": "code",
   "execution_count": 31,
   "metadata": {},
   "outputs": [
    {
     "data": {
      "text/plain": [
       "<p2ch12.dsets.Ct at 0x1e422ba34c0>"
      ]
     },
     "execution_count": 31,
     "metadata": {},
     "output_type": "execute_result"
    }
   ],
   "source": [
    "from p2ch12.dsets import getCt\n",
    "positive_sample_example = positiveSample_list[0]\n",
    "ct = getCt(positive_sample_example.series_uid)\n",
    "ct"
   ]
  },
  {
   "cell_type": "code",
   "execution_count": 52,
   "metadata": {},
   "outputs": [
    {
     "name": "stderr",
     "output_type": "stream",
     "text": [
      "2024-11-10 17:19:22,261 INFO     pid:15916 p2ch12.dsets:173:__init__ <p2ch12.dsets.LunaDataset object at 0x000001E422BC2B90>: 551065 training samples\n"
     ]
    },
    {
     "name": "stdout",
     "output_type": "stream",
     "text": [
      "Sample 0, Tensor shape: torch.Size([1, 32, 48, 48])\n",
      "tensor([0, 1])\n",
      "Sample 1, Tensor shape: torch.Size([1, 32, 48, 48])\n",
      "tensor([0, 1])\n",
      "Sample 2, Tensor shape: torch.Size([1, 32, 48, 48])\n",
      "tensor([0, 1])\n",
      "Sample 3, Tensor shape: torch.Size([1, 32, 48, 48])\n",
      "tensor([0, 1])\n",
      "Sample 4, Tensor shape: torch.Size([1, 32, 48, 48])\n",
      "tensor([0, 1])\n",
      "Sample 5, Tensor shape: torch.Size([1, 32, 48, 48])\n",
      "tensor([0, 1])\n",
      "Sample 6, Tensor shape: torch.Size([1, 32, 48, 48])\n",
      "tensor([0, 1])\n",
      "Sample 7, Tensor shape: torch.Size([1, 32, 48, 48])\n",
      "tensor([0, 1])\n",
      "Sample 8, Tensor shape: torch.Size([1, 32, 48, 48])\n",
      "tensor([0, 1])\n",
      "Sample 9, Tensor shape: torch.Size([1, 32, 48, 48])\n",
      "tensor([0, 1])\n",
      "Sample 10, Tensor shape: torch.Size([1, 32, 48, 48])\n",
      "tensor([0, 1])\n",
      "Sample 11, Tensor shape: torch.Size([1, 32, 48, 48])\n",
      "tensor([0, 1])\n",
      "Sample 12, Tensor shape: torch.Size([1, 32, 48, 48])\n",
      "tensor([0, 1])\n",
      "Sample 13, Tensor shape: torch.Size([1, 32, 48, 48])\n",
      "tensor([0, 1])\n",
      "Sample 14, Tensor shape: torch.Size([1, 32, 48, 48])\n",
      "tensor([0, 1])\n",
      "Sample 15, Tensor shape: torch.Size([1, 32, 48, 48])\n",
      "tensor([0, 1])\n",
      "Sample 16, Tensor shape: torch.Size([1, 32, 48, 48])\n",
      "tensor([0, 1])\n",
      "Sample 17, Tensor shape: torch.Size([1, 32, 48, 48])\n",
      "tensor([0, 1])\n",
      "Sample 18, Tensor shape: torch.Size([1, 32, 48, 48])\n",
      "tensor([0, 1])\n",
      "Sample 19, Tensor shape: torch.Size([1, 32, 48, 48])\n",
      "tensor([0, 1])\n",
      "Sample 20, Tensor shape: torch.Size([1, 32, 48, 48])\n",
      "tensor([0, 1])\n",
      "Sample 21, Tensor shape: torch.Size([1, 32, 48, 48])\n",
      "tensor([0, 1])\n",
      "Sample 22, Tensor shape: torch.Size([1, 32, 48, 48])\n",
      "tensor([0, 1])\n",
      "Sample 23, Tensor shape: torch.Size([1, 32, 48, 48])\n",
      "tensor([0, 1])\n",
      "Sample 24, Tensor shape: torch.Size([1, 32, 48, 48])\n",
      "tensor([0, 1])\n",
      "Sample 25, Tensor shape: torch.Size([1, 32, 48, 48])\n",
      "tensor([0, 1])\n",
      "Sample 26, Tensor shape: torch.Size([1, 32, 48, 48])\n",
      "tensor([0, 1])\n",
      "Sample 27, Tensor shape: torch.Size([1, 32, 48, 48])\n",
      "tensor([0, 1])\n",
      "Sample 28, Tensor shape: torch.Size([1, 32, 48, 48])\n",
      "tensor([0, 1])\n",
      "Sample 29, Tensor shape: torch.Size([1, 32, 48, 48])\n",
      "tensor([0, 1])\n"
     ]
    }
   ],
   "source": [
    "from p2ch12.dsets import LunaDataset\n",
    "luna_dataset = LunaDataset()\n",
    "for index in range(0, 30):\n",
    "    sample = luna_dataset[index]\n",
    "    print(f\"Sample {index}, Tensor shape: {sample[0].shape}\")\n",
    "    print(sample[1])\n",
    "    # print(sample[2])\n",
    "    # print(sample[3])\n",
    "    "
   ]
  },
  {
   "cell_type": "code",
   "execution_count": null,
   "metadata": {},
   "outputs": [],
   "source": []
  }
 ],
 "metadata": {
  "kernelspec": {
   "display_name": ".venv",
   "language": "python",
   "name": "python3"
  },
  "language_info": {
   "codemirror_mode": {
    "name": "ipython",
    "version": 3
   },
   "file_extension": ".py",
   "mimetype": "text/x-python",
   "name": "python",
   "nbconvert_exporter": "python",
   "pygments_lexer": "ipython3",
   "version": "3.10.11"
  }
 },
 "nbformat": 4,
 "nbformat_minor": 2
}
